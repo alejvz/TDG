{
  "cells": [
    {
      "cell_type": "markdown",
      "source": [
        "# **TRABAJO DE GRADO**\n",
        "Rosinver Alejandro Vasquez Duran"
      ],
      "metadata": {
        "id": "Qs4wJQ9h5T_M"
      }
    },
    {
      "cell_type": "code",
      "source": [
        "!nvidia-smi"
      ],
      "metadata": {
        "colab": {
          "base_uri": "https://localhost:8080/"
        },
        "id": "PWl--yofAa_R",
        "outputId": "ecbd00f2-3004-4177-f4f4-5f43dd8be728"
      },
      "execution_count": null,
      "outputs": [
        {
          "output_type": "stream",
          "name": "stdout",
          "text": [
            "Mon Feb 27 20:40:40 2023       \n",
            "+-----------------------------------------------------------------------------+\n",
            "| NVIDIA-SMI 525.85.12    Driver Version: 525.85.12    CUDA Version: 12.0     |\n",
            "|-------------------------------+----------------------+----------------------+\n",
            "| GPU  Name        Persistence-M| Bus-Id        Disp.A | Volatile Uncorr. ECC |\n",
            "| Fan  Temp  Perf  Pwr:Usage/Cap|         Memory-Usage | GPU-Util  Compute M. |\n",
            "|                               |                      |               MIG M. |\n",
            "|===============================+======================+======================|\n",
            "|   0  Tesla T4            Off  | 00000000:00:04.0 Off |                    0 |\n",
            "| N/A   58C    P0    27W /  70W |      0MiB / 15360MiB |      0%      Default |\n",
            "|                               |                      |                  N/A |\n",
            "+-------------------------------+----------------------+----------------------+\n",
            "                                                                               \n",
            "+-----------------------------------------------------------------------------+\n",
            "| Processes:                                                                  |\n",
            "|  GPU   GI   CI        PID   Type   Process name                  GPU Memory |\n",
            "|        ID   ID                                                   Usage      |\n",
            "|=============================================================================|\n",
            "|  No running processes found                                                 |\n",
            "+-----------------------------------------------------------------------------+\n"
          ]
        }
      ]
    },
    {
      "cell_type": "code",
      "execution_count": null,
      "metadata": {
        "id": "IdVm0emir7c0"
      },
      "outputs": [],
      "source": [
        " #@title Librerias necesarias 🤗\n",
        "\n",
        "#@markdown Pandas, Numpy y sklearn\n",
        "import pandas as pd                                                                                                                                                                                                                                                                                                                                                                                                                                                                                                                                                                                                                                                                                                                                                 \n",
        "import numpy as np\n",
        "import matplotlib.pyplot as plt\n",
        "import seaborn as sns\n",
        "import pickle \n",
        "from google.colab import auth \n",
        "from sklearn.metrics import classification_report\n",
        "from sklearn import metrics\n",
        "from sklearn import tree\n",
        "import warnings\n",
        "warnings.filterwarnings('ignore')"
      ]
    },
    {
      "cell_type": "code",
      "execution_count": null,
      "metadata": {
        "colab": {
          "base_uri": "https://localhost:8080/"
        },
        "id": "6toJVB4Fr7cw",
        "outputId": "4ba216fc-611b-4f7a-f2a3-b181f0338042"
      },
      "outputs": [
        {
          "output_type": "stream",
          "name": "stdout",
          "text": [
            "Drive already mounted at /content/drive; to attempt to forcibly remount, call drive.mount(\"/content/drive\", force_remount=True).\n"
          ]
        }
      ],
      "source": [
        "#@title Importar CSV de Google Drive\n",
        "from google.colab import drive\n",
        "drive.mount('/content/drive')"
      ]
    },
    {
      "cell_type": "code",
      "execution_count": null,
      "metadata": {
        "colab": {
          "base_uri": "https://localhost:8080/",
          "height": 374
        },
        "id": "9VGI_056r7cy",
        "outputId": "f5563b4b-ba14-438a-8c5f-69d81d089057"
      },
      "outputs": [
        {
          "output_type": "execute_result",
          "data": {
            "text/plain": [
              "   capacidad de intercambio cationico (CICE) suma de bases cmol(+)/kg  \\\n",
              "0                                           8.079447                    \n",
              "1                                           5.230228                    \n",
              "2                                           4.425282                    \n",
              "3                                           3.546697                    \n",
              "4                                           3.986192                    \n",
              "\n",
              "   pH agua:suelo 2.5:1.0  Materia orgánica (MO) %  Fósforo (P) Bray II mg/kg  \\\n",
              "0                   4.87                16.041251                  64.199200   \n",
              "1                   4.68                 2.119437                   9.167087   \n",
              "2                   4.52                 1.509147                  36.192439   \n",
              "3                   5.15                 2.098749                  12.096665   \n",
              "4                   4.79                 1.222105                   7.819482   \n",
              "\n",
              "   Azufre (S) Fosfato monocalcico mg/kg  \\\n",
              "0                              5.523560   \n",
              "1                             15.209424   \n",
              "2                             10.104712   \n",
              "3                              5.261780   \n",
              "4                              3.298429   \n",
              "\n",
              "   Calcio (Ca) intercambiable cmol(+)/kg  \\\n",
              "0                               2.234775   \n",
              "1                               1.727216   \n",
              "2                               1.247214   \n",
              "3                               1.641690   \n",
              "4                               2.016842   \n",
              "\n",
              "   Magnesio (Mg) intercambiable cmol(+)/kg  Acidez (Al+H) KCL cmol(+)/kg  \\\n",
              "0                                 0.346672                      5.028454   \n",
              "1                                 0.412929                      2.835518   \n",
              "2                                 0.293088                      2.702921   \n",
              "3                                 0.457463                      1.234164   \n",
              "4                                 0.379801                      1.387160   \n",
              "\n",
              "   Aluminio (Al) intercambiable cmol(+)/kg  \\\n",
              "0                                 4.643150   \n",
              "1                                 2.522577   \n",
              "2                                 2.512527   \n",
              "3                                 1.005011   \n",
              "4                                 1.115562   \n",
              "\n",
              "   Potasio (K) intercambiable cmol(+)/kg  \\\n",
              "0                               0.313188   \n",
              "1                               0.153612   \n",
              "2                               0.079000   \n",
              "3                               0.113380   \n",
              "4                               0.096556   \n",
              "\n",
              "   Sodio (Na) intercambiable cmol(+)/kg  \\\n",
              "0                              0.156357   \n",
              "1                              0.100953   \n",
              "2                              0.103058   \n",
              "3                              0.140000   \n",
              "4                              0.105833   \n",
              "\n",
              "   Conductividad electrica (CE) relacion 2.5:1.0 dS/m  \\\n",
              "0                                           0.374107    \n",
              "1                                           0.143196    \n",
              "2                                           0.131043    \n",
              "3                                           0.161690    \n",
              "4                                           0.117305    \n",
              "\n",
              "   Hierro (Fe) disponible olsen mg/kg  Cobre (Cu) disponible mg/kg  \\\n",
              "0                            1685.377                        4.124   \n",
              "1                             605.352                        1.156   \n",
              "2                             626.978                        1.192   \n",
              "3                             415.316                        2.743   \n",
              "4                             324.654                        1.781   \n",
              "\n",
              "   Manganeso (Mn) disponible Olsen mg/kg  Zinc (Zn) disponible Olsen mg/kg  \\\n",
              "0                                 17.619                             8.567   \n",
              "1                                  3.864                             1.252   \n",
              "2                                  2.353                             1.000   \n",
              "3                                  8.691                            14.761   \n",
              "4                                  3.524                             1.724   \n",
              "\n",
              "   Boro (B) disponible mg/kg  \n",
              "0                   0.302575  \n",
              "1                   0.109442  \n",
              "2                   0.152361  \n",
              "3                   0.152361  \n",
              "4                   0.173820  "
            ],
            "text/html": [
              "\n",
              "  <div id=\"df-1b0686d2-0405-472a-acaf-5dd95afe7da1\">\n",
              "    <div class=\"colab-df-container\">\n",
              "      <div>\n",
              "<style scoped>\n",
              "    .dataframe tbody tr th:only-of-type {\n",
              "        vertical-align: middle;\n",
              "    }\n",
              "\n",
              "    .dataframe tbody tr th {\n",
              "        vertical-align: top;\n",
              "    }\n",
              "\n",
              "    .dataframe thead th {\n",
              "        text-align: right;\n",
              "    }\n",
              "</style>\n",
              "<table border=\"1\" class=\"dataframe\">\n",
              "  <thead>\n",
              "    <tr style=\"text-align: right;\">\n",
              "      <th></th>\n",
              "      <th>capacidad de intercambio cationico (CICE) suma de bases cmol(+)/kg</th>\n",
              "      <th>pH agua:suelo 2.5:1.0</th>\n",
              "      <th>Materia orgánica (MO) %</th>\n",
              "      <th>Fósforo (P) Bray II mg/kg</th>\n",
              "      <th>Azufre (S) Fosfato monocalcico mg/kg</th>\n",
              "      <th>Calcio (Ca) intercambiable cmol(+)/kg</th>\n",
              "      <th>Magnesio (Mg) intercambiable cmol(+)/kg</th>\n",
              "      <th>Acidez (Al+H) KCL cmol(+)/kg</th>\n",
              "      <th>Aluminio (Al) intercambiable cmol(+)/kg</th>\n",
              "      <th>Potasio (K) intercambiable cmol(+)/kg</th>\n",
              "      <th>Sodio (Na) intercambiable cmol(+)/kg</th>\n",
              "      <th>Conductividad electrica (CE) relacion 2.5:1.0 dS/m</th>\n",
              "      <th>Hierro (Fe) disponible olsen mg/kg</th>\n",
              "      <th>Cobre (Cu) disponible mg/kg</th>\n",
              "      <th>Manganeso (Mn) disponible Olsen mg/kg</th>\n",
              "      <th>Zinc (Zn) disponible Olsen mg/kg</th>\n",
              "      <th>Boro (B) disponible mg/kg</th>\n",
              "    </tr>\n",
              "  </thead>\n",
              "  <tbody>\n",
              "    <tr>\n",
              "      <th>0</th>\n",
              "      <td>8.079447</td>\n",
              "      <td>4.87</td>\n",
              "      <td>16.041251</td>\n",
              "      <td>64.199200</td>\n",
              "      <td>5.523560</td>\n",
              "      <td>2.234775</td>\n",
              "      <td>0.346672</td>\n",
              "      <td>5.028454</td>\n",
              "      <td>4.643150</td>\n",
              "      <td>0.313188</td>\n",
              "      <td>0.156357</td>\n",
              "      <td>0.374107</td>\n",
              "      <td>1685.377</td>\n",
              "      <td>4.124</td>\n",
              "      <td>17.619</td>\n",
              "      <td>8.567</td>\n",
              "      <td>0.302575</td>\n",
              "    </tr>\n",
              "    <tr>\n",
              "      <th>1</th>\n",
              "      <td>5.230228</td>\n",
              "      <td>4.68</td>\n",
              "      <td>2.119437</td>\n",
              "      <td>9.167087</td>\n",
              "      <td>15.209424</td>\n",
              "      <td>1.727216</td>\n",
              "      <td>0.412929</td>\n",
              "      <td>2.835518</td>\n",
              "      <td>2.522577</td>\n",
              "      <td>0.153612</td>\n",
              "      <td>0.100953</td>\n",
              "      <td>0.143196</td>\n",
              "      <td>605.352</td>\n",
              "      <td>1.156</td>\n",
              "      <td>3.864</td>\n",
              "      <td>1.252</td>\n",
              "      <td>0.109442</td>\n",
              "    </tr>\n",
              "    <tr>\n",
              "      <th>2</th>\n",
              "      <td>4.425282</td>\n",
              "      <td>4.52</td>\n",
              "      <td>1.509147</td>\n",
              "      <td>36.192439</td>\n",
              "      <td>10.104712</td>\n",
              "      <td>1.247214</td>\n",
              "      <td>0.293088</td>\n",
              "      <td>2.702921</td>\n",
              "      <td>2.512527</td>\n",
              "      <td>0.079000</td>\n",
              "      <td>0.103058</td>\n",
              "      <td>0.131043</td>\n",
              "      <td>626.978</td>\n",
              "      <td>1.192</td>\n",
              "      <td>2.353</td>\n",
              "      <td>1.000</td>\n",
              "      <td>0.152361</td>\n",
              "    </tr>\n",
              "    <tr>\n",
              "      <th>3</th>\n",
              "      <td>3.546697</td>\n",
              "      <td>5.15</td>\n",
              "      <td>2.098749</td>\n",
              "      <td>12.096665</td>\n",
              "      <td>5.261780</td>\n",
              "      <td>1.641690</td>\n",
              "      <td>0.457463</td>\n",
              "      <td>1.234164</td>\n",
              "      <td>1.005011</td>\n",
              "      <td>0.113380</td>\n",
              "      <td>0.140000</td>\n",
              "      <td>0.161690</td>\n",
              "      <td>415.316</td>\n",
              "      <td>2.743</td>\n",
              "      <td>8.691</td>\n",
              "      <td>14.761</td>\n",
              "      <td>0.152361</td>\n",
              "    </tr>\n",
              "    <tr>\n",
              "      <th>4</th>\n",
              "      <td>3.986192</td>\n",
              "      <td>4.79</td>\n",
              "      <td>1.222105</td>\n",
              "      <td>7.819482</td>\n",
              "      <td>3.298429</td>\n",
              "      <td>2.016842</td>\n",
              "      <td>0.379801</td>\n",
              "      <td>1.387160</td>\n",
              "      <td>1.115562</td>\n",
              "      <td>0.096556</td>\n",
              "      <td>0.105833</td>\n",
              "      <td>0.117305</td>\n",
              "      <td>324.654</td>\n",
              "      <td>1.781</td>\n",
              "      <td>3.524</td>\n",
              "      <td>1.724</td>\n",
              "      <td>0.173820</td>\n",
              "    </tr>\n",
              "  </tbody>\n",
              "</table>\n",
              "</div>\n",
              "      <button class=\"colab-df-convert\" onclick=\"convertToInteractive('df-1b0686d2-0405-472a-acaf-5dd95afe7da1')\"\n",
              "              title=\"Convert this dataframe to an interactive table.\"\n",
              "              style=\"display:none;\">\n",
              "        \n",
              "  <svg xmlns=\"http://www.w3.org/2000/svg\" height=\"24px\"viewBox=\"0 0 24 24\"\n",
              "       width=\"24px\">\n",
              "    <path d=\"M0 0h24v24H0V0z\" fill=\"none\"/>\n",
              "    <path d=\"M18.56 5.44l.94 2.06.94-2.06 2.06-.94-2.06-.94-.94-2.06-.94 2.06-2.06.94zm-11 1L8.5 8.5l.94-2.06 2.06-.94-2.06-.94L8.5 2.5l-.94 2.06-2.06.94zm10 10l.94 2.06.94-2.06 2.06-.94-2.06-.94-.94-2.06-.94 2.06-2.06.94z\"/><path d=\"M17.41 7.96l-1.37-1.37c-.4-.4-.92-.59-1.43-.59-.52 0-1.04.2-1.43.59L10.3 9.45l-7.72 7.72c-.78.78-.78 2.05 0 2.83L4 21.41c.39.39.9.59 1.41.59.51 0 1.02-.2 1.41-.59l7.78-7.78 2.81-2.81c.8-.78.8-2.07 0-2.86zM5.41 20L4 18.59l7.72-7.72 1.47 1.35L5.41 20z\"/>\n",
              "  </svg>\n",
              "      </button>\n",
              "      \n",
              "  <style>\n",
              "    .colab-df-container {\n",
              "      display:flex;\n",
              "      flex-wrap:wrap;\n",
              "      gap: 12px;\n",
              "    }\n",
              "\n",
              "    .colab-df-convert {\n",
              "      background-color: #E8F0FE;\n",
              "      border: none;\n",
              "      border-radius: 50%;\n",
              "      cursor: pointer;\n",
              "      display: none;\n",
              "      fill: #1967D2;\n",
              "      height: 32px;\n",
              "      padding: 0 0 0 0;\n",
              "      width: 32px;\n",
              "    }\n",
              "\n",
              "    .colab-df-convert:hover {\n",
              "      background-color: #E2EBFA;\n",
              "      box-shadow: 0px 1px 2px rgba(60, 64, 67, 0.3), 0px 1px 3px 1px rgba(60, 64, 67, 0.15);\n",
              "      fill: #174EA6;\n",
              "    }\n",
              "\n",
              "    [theme=dark] .colab-df-convert {\n",
              "      background-color: #3B4455;\n",
              "      fill: #D2E3FC;\n",
              "    }\n",
              "\n",
              "    [theme=dark] .colab-df-convert:hover {\n",
              "      background-color: #434B5C;\n",
              "      box-shadow: 0px 1px 3px 1px rgba(0, 0, 0, 0.15);\n",
              "      filter: drop-shadow(0px 1px 2px rgba(0, 0, 0, 0.3));\n",
              "      fill: #FFFFFF;\n",
              "    }\n",
              "  </style>\n",
              "\n",
              "      <script>\n",
              "        const buttonEl =\n",
              "          document.querySelector('#df-1b0686d2-0405-472a-acaf-5dd95afe7da1 button.colab-df-convert');\n",
              "        buttonEl.style.display =\n",
              "          google.colab.kernel.accessAllowed ? 'block' : 'none';\n",
              "\n",
              "        async function convertToInteractive(key) {\n",
              "          const element = document.querySelector('#df-1b0686d2-0405-472a-acaf-5dd95afe7da1');\n",
              "          const dataTable =\n",
              "            await google.colab.kernel.invokeFunction('convertToInteractive',\n",
              "                                                     [key], {});\n",
              "          if (!dataTable) return;\n",
              "\n",
              "          const docLinkHtml = 'Like what you see? Visit the ' +\n",
              "            '<a target=\"_blank\" href=https://colab.research.google.com/notebooks/data_table.ipynb>data table notebook</a>'\n",
              "            + ' to learn more about interactive tables.';\n",
              "          element.innerHTML = '';\n",
              "          dataTable['output_type'] = 'display_data';\n",
              "          await google.colab.output.renderOutput(dataTable, element);\n",
              "          const docLink = document.createElement('div');\n",
              "          docLink.innerHTML = docLinkHtml;\n",
              "          element.appendChild(docLink);\n",
              "        }\n",
              "      </script>\n",
              "    </div>\n",
              "  </div>\n",
              "  "
            ]
          },
          "metadata": {},
          "execution_count": 35
        }
      ],
      "source": [
        "#@title Abrir data CSV de Google Drive\n",
        "df =pd.read_csv(\"/content/drive/MyDrive/data/data2.csv\")\n",
        "df.head()"
      ]
    },
    {
      "cell_type": "code",
      "source": [
        "#@title Importar test CSV de Google Drive\n",
        "df_test = pd.read_csv(\"/content/drive/MyDrive/data/test.csv\")\n",
        "df_test.head()"
      ],
      "metadata": {
        "id": "Z6qTEHw0-iPy",
        "colab": {
          "base_uri": "https://localhost:8080/",
          "height": 374
        },
        "outputId": "c63553e6-c7e3-48d3-f158-49d8c3257741"
      },
      "execution_count": null,
      "outputs": [
        {
          "output_type": "execute_result",
          "data": {
            "text/plain": [
              "   capacidad de intercambio cationico (CICE) suma de bases cmol(+)/kg  \\\n",
              "0                                           6.505925                    \n",
              "1                                           7.860289                    \n",
              "2                                           6.286261                    \n",
              "3                                           5.516175                    \n",
              "4                                           9.604411                    \n",
              "\n",
              "   pH agua:suelo 2.5:1.0  Materia orgánica (MO) %  Fósforo (P) Bray II mg/kg  \\\n",
              "0                   5.06                 1.989168                  25.137317   \n",
              "1                   4.92                 1.117649                   4.529839   \n",
              "2                   5.08                10.450875                 150.643079   \n",
              "3                   5.24                 5.069692                  16.928068   \n",
              "4                   5.44                 4.542003                   7.166455   \n",
              "\n",
              "   Azufre (S) Fosfato monocalcico mg/kg  \\\n",
              "0                              2.304217   \n",
              "1                              1.551205   \n",
              "2                             17.424545   \n",
              "3                              3.146791   \n",
              "4                              7.586562   \n",
              "\n",
              "   Calcio (Ca) intercambiable cmol(+)/kg  \\\n",
              "0                               1.764216   \n",
              "1                               2.419223   \n",
              "2                               3.294720   \n",
              "3                               3.707053   \n",
              "4                               7.985246   \n",
              "\n",
              "   Magnesio (Mg) intercambiable cmol(+)/kg  Acidez (Al+H) KCL cmol(+)/kg  \\\n",
              "0                                 0.950770                      3.585438   \n",
              "1                                 1.177238                      4.015271   \n",
              "2                                 0.246720                      1.648181   \n",
              "3                                 1.066921                      0.389727   \n",
              "4                                 0.445877                      0.797883   \n",
              "\n",
              "   Aluminio (Al) intercambiable cmol(+)/kg  \\\n",
              "0                                 3.163992   \n",
              "1                                 3.469844   \n",
              "2                                 1.412235   \n",
              "3                                 0.193072   \n",
              "4                                 0.505220   \n",
              "\n",
              "   Potasio (K) intercambiable cmol(+)/kg  \\\n",
              "0                               0.105502   \n",
              "1                               0.125309   \n",
              "2                               1.036800   \n",
              "3                               0.212473   \n",
              "4                               0.167566   \n",
              "\n",
              "   Sodio (Na) intercambiable cmol(+)/kg  \\\n",
              "0                              0.140000   \n",
              "1                              0.123249   \n",
              "2                              0.059840   \n",
              "3                              0.140000   \n",
              "4                              0.207839   \n",
              "\n",
              "   Conductividad electrica (CE) relacion 2.5:1.0 dS/m  \\\n",
              "0                                           0.067635    \n",
              "1                                           0.088771    \n",
              "2                                           0.434300    \n",
              "3                                           0.179128    \n",
              "4                                           0.290092    \n",
              "\n",
              "   Hierro (Fe) disponible olsen mg/kg  Cobre (Cu) disponible mg/kg  \\\n",
              "0                          392.084000                        3.024   \n",
              "1                          300.091000                        3.479   \n",
              "2                          478.000000                        9.300   \n",
              "3                          506.869301                        1.000   \n",
              "4                          972.994000                        1.078   \n",
              "\n",
              "   Manganeso (Mn) disponible Olsen mg/kg  Zinc (Zn) disponible Olsen mg/kg  \\\n",
              "0                              24.277000                             3.108   \n",
              "1                              55.649000                             1.666   \n",
              "2                              10.000000                             5.000   \n",
              "3                               4.224924                             1.000   \n",
              "4                              11.372000                             1.779   \n",
              "\n",
              "   Boro (B) disponible mg/kg  \n",
              "0                   0.166963  \n",
              "1                   0.211487  \n",
              "2                   0.284466  \n",
              "3                   0.211077  \n",
              "4                   0.207320  "
            ],
            "text/html": [
              "\n",
              "  <div id=\"df-21467cbb-1a86-4013-8f5e-043c881126f3\">\n",
              "    <div class=\"colab-df-container\">\n",
              "      <div>\n",
              "<style scoped>\n",
              "    .dataframe tbody tr th:only-of-type {\n",
              "        vertical-align: middle;\n",
              "    }\n",
              "\n",
              "    .dataframe tbody tr th {\n",
              "        vertical-align: top;\n",
              "    }\n",
              "\n",
              "    .dataframe thead th {\n",
              "        text-align: right;\n",
              "    }\n",
              "</style>\n",
              "<table border=\"1\" class=\"dataframe\">\n",
              "  <thead>\n",
              "    <tr style=\"text-align: right;\">\n",
              "      <th></th>\n",
              "      <th>capacidad de intercambio cationico (CICE) suma de bases cmol(+)/kg</th>\n",
              "      <th>pH agua:suelo 2.5:1.0</th>\n",
              "      <th>Materia orgánica (MO) %</th>\n",
              "      <th>Fósforo (P) Bray II mg/kg</th>\n",
              "      <th>Azufre (S) Fosfato monocalcico mg/kg</th>\n",
              "      <th>Calcio (Ca) intercambiable cmol(+)/kg</th>\n",
              "      <th>Magnesio (Mg) intercambiable cmol(+)/kg</th>\n",
              "      <th>Acidez (Al+H) KCL cmol(+)/kg</th>\n",
              "      <th>Aluminio (Al) intercambiable cmol(+)/kg</th>\n",
              "      <th>Potasio (K) intercambiable cmol(+)/kg</th>\n",
              "      <th>Sodio (Na) intercambiable cmol(+)/kg</th>\n",
              "      <th>Conductividad electrica (CE) relacion 2.5:1.0 dS/m</th>\n",
              "      <th>Hierro (Fe) disponible olsen mg/kg</th>\n",
              "      <th>Cobre (Cu) disponible mg/kg</th>\n",
              "      <th>Manganeso (Mn) disponible Olsen mg/kg</th>\n",
              "      <th>Zinc (Zn) disponible Olsen mg/kg</th>\n",
              "      <th>Boro (B) disponible mg/kg</th>\n",
              "    </tr>\n",
              "  </thead>\n",
              "  <tbody>\n",
              "    <tr>\n",
              "      <th>0</th>\n",
              "      <td>6.505925</td>\n",
              "      <td>5.06</td>\n",
              "      <td>1.989168</td>\n",
              "      <td>25.137317</td>\n",
              "      <td>2.304217</td>\n",
              "      <td>1.764216</td>\n",
              "      <td>0.950770</td>\n",
              "      <td>3.585438</td>\n",
              "      <td>3.163992</td>\n",
              "      <td>0.105502</td>\n",
              "      <td>0.140000</td>\n",
              "      <td>0.067635</td>\n",
              "      <td>392.084000</td>\n",
              "      <td>3.024</td>\n",
              "      <td>24.277000</td>\n",
              "      <td>3.108</td>\n",
              "      <td>0.166963</td>\n",
              "    </tr>\n",
              "    <tr>\n",
              "      <th>1</th>\n",
              "      <td>7.860289</td>\n",
              "      <td>4.92</td>\n",
              "      <td>1.117649</td>\n",
              "      <td>4.529839</td>\n",
              "      <td>1.551205</td>\n",
              "      <td>2.419223</td>\n",
              "      <td>1.177238</td>\n",
              "      <td>4.015271</td>\n",
              "      <td>3.469844</td>\n",
              "      <td>0.125309</td>\n",
              "      <td>0.123249</td>\n",
              "      <td>0.088771</td>\n",
              "      <td>300.091000</td>\n",
              "      <td>3.479</td>\n",
              "      <td>55.649000</td>\n",
              "      <td>1.666</td>\n",
              "      <td>0.211487</td>\n",
              "    </tr>\n",
              "    <tr>\n",
              "      <th>2</th>\n",
              "      <td>6.286261</td>\n",
              "      <td>5.08</td>\n",
              "      <td>10.450875</td>\n",
              "      <td>150.643079</td>\n",
              "      <td>17.424545</td>\n",
              "      <td>3.294720</td>\n",
              "      <td>0.246720</td>\n",
              "      <td>1.648181</td>\n",
              "      <td>1.412235</td>\n",
              "      <td>1.036800</td>\n",
              "      <td>0.059840</td>\n",
              "      <td>0.434300</td>\n",
              "      <td>478.000000</td>\n",
              "      <td>9.300</td>\n",
              "      <td>10.000000</td>\n",
              "      <td>5.000</td>\n",
              "      <td>0.284466</td>\n",
              "    </tr>\n",
              "    <tr>\n",
              "      <th>3</th>\n",
              "      <td>5.516175</td>\n",
              "      <td>5.24</td>\n",
              "      <td>5.069692</td>\n",
              "      <td>16.928068</td>\n",
              "      <td>3.146791</td>\n",
              "      <td>3.707053</td>\n",
              "      <td>1.066921</td>\n",
              "      <td>0.389727</td>\n",
              "      <td>0.193072</td>\n",
              "      <td>0.212473</td>\n",
              "      <td>0.140000</td>\n",
              "      <td>0.179128</td>\n",
              "      <td>506.869301</td>\n",
              "      <td>1.000</td>\n",
              "      <td>4.224924</td>\n",
              "      <td>1.000</td>\n",
              "      <td>0.211077</td>\n",
              "    </tr>\n",
              "    <tr>\n",
              "      <th>4</th>\n",
              "      <td>9.604411</td>\n",
              "      <td>5.44</td>\n",
              "      <td>4.542003</td>\n",
              "      <td>7.166455</td>\n",
              "      <td>7.586562</td>\n",
              "      <td>7.985246</td>\n",
              "      <td>0.445877</td>\n",
              "      <td>0.797883</td>\n",
              "      <td>0.505220</td>\n",
              "      <td>0.167566</td>\n",
              "      <td>0.207839</td>\n",
              "      <td>0.290092</td>\n",
              "      <td>972.994000</td>\n",
              "      <td>1.078</td>\n",
              "      <td>11.372000</td>\n",
              "      <td>1.779</td>\n",
              "      <td>0.207320</td>\n",
              "    </tr>\n",
              "  </tbody>\n",
              "</table>\n",
              "</div>\n",
              "      <button class=\"colab-df-convert\" onclick=\"convertToInteractive('df-21467cbb-1a86-4013-8f5e-043c881126f3')\"\n",
              "              title=\"Convert this dataframe to an interactive table.\"\n",
              "              style=\"display:none;\">\n",
              "        \n",
              "  <svg xmlns=\"http://www.w3.org/2000/svg\" height=\"24px\"viewBox=\"0 0 24 24\"\n",
              "       width=\"24px\">\n",
              "    <path d=\"M0 0h24v24H0V0z\" fill=\"none\"/>\n",
              "    <path d=\"M18.56 5.44l.94 2.06.94-2.06 2.06-.94-2.06-.94-.94-2.06-.94 2.06-2.06.94zm-11 1L8.5 8.5l.94-2.06 2.06-.94-2.06-.94L8.5 2.5l-.94 2.06-2.06.94zm10 10l.94 2.06.94-2.06 2.06-.94-2.06-.94-.94-2.06-.94 2.06-2.06.94z\"/><path d=\"M17.41 7.96l-1.37-1.37c-.4-.4-.92-.59-1.43-.59-.52 0-1.04.2-1.43.59L10.3 9.45l-7.72 7.72c-.78.78-.78 2.05 0 2.83L4 21.41c.39.39.9.59 1.41.59.51 0 1.02-.2 1.41-.59l7.78-7.78 2.81-2.81c.8-.78.8-2.07 0-2.86zM5.41 20L4 18.59l7.72-7.72 1.47 1.35L5.41 20z\"/>\n",
              "  </svg>\n",
              "      </button>\n",
              "      \n",
              "  <style>\n",
              "    .colab-df-container {\n",
              "      display:flex;\n",
              "      flex-wrap:wrap;\n",
              "      gap: 12px;\n",
              "    }\n",
              "\n",
              "    .colab-df-convert {\n",
              "      background-color: #E8F0FE;\n",
              "      border: none;\n",
              "      border-radius: 50%;\n",
              "      cursor: pointer;\n",
              "      display: none;\n",
              "      fill: #1967D2;\n",
              "      height: 32px;\n",
              "      padding: 0 0 0 0;\n",
              "      width: 32px;\n",
              "    }\n",
              "\n",
              "    .colab-df-convert:hover {\n",
              "      background-color: #E2EBFA;\n",
              "      box-shadow: 0px 1px 2px rgba(60, 64, 67, 0.3), 0px 1px 3px 1px rgba(60, 64, 67, 0.15);\n",
              "      fill: #174EA6;\n",
              "    }\n",
              "\n",
              "    [theme=dark] .colab-df-convert {\n",
              "      background-color: #3B4455;\n",
              "      fill: #D2E3FC;\n",
              "    }\n",
              "\n",
              "    [theme=dark] .colab-df-convert:hover {\n",
              "      background-color: #434B5C;\n",
              "      box-shadow: 0px 1px 3px 1px rgba(0, 0, 0, 0.15);\n",
              "      filter: drop-shadow(0px 1px 2px rgba(0, 0, 0, 0.3));\n",
              "      fill: #FFFFFF;\n",
              "    }\n",
              "  </style>\n",
              "\n",
              "      <script>\n",
              "        const buttonEl =\n",
              "          document.querySelector('#df-21467cbb-1a86-4013-8f5e-043c881126f3 button.colab-df-convert');\n",
              "        buttonEl.style.display =\n",
              "          google.colab.kernel.accessAllowed ? 'block' : 'none';\n",
              "\n",
              "        async function convertToInteractive(key) {\n",
              "          const element = document.querySelector('#df-21467cbb-1a86-4013-8f5e-043c881126f3');\n",
              "          const dataTable =\n",
              "            await google.colab.kernel.invokeFunction('convertToInteractive',\n",
              "                                                     [key], {});\n",
              "          if (!dataTable) return;\n",
              "\n",
              "          const docLinkHtml = 'Like what you see? Visit the ' +\n",
              "            '<a target=\"_blank\" href=https://colab.research.google.com/notebooks/data_table.ipynb>data table notebook</a>'\n",
              "            + ' to learn more about interactive tables.';\n",
              "          element.innerHTML = '';\n",
              "          dataTable['output_type'] = 'display_data';\n",
              "          await google.colab.output.renderOutput(dataTable, element);\n",
              "          const docLink = document.createElement('div');\n",
              "          docLink.innerHTML = docLinkHtml;\n",
              "          element.appendChild(docLink);\n",
              "        }\n",
              "      </script>\n",
              "    </div>\n",
              "  </div>\n",
              "  "
            ]
          },
          "metadata": {},
          "execution_count": 36
        }
      ]
    },
    {
      "cell_type": "code",
      "execution_count": null,
      "metadata": {
        "id": "c4TUBDIKr7dE"
      },
      "outputs": [],
      "source": [
        "#quitar valores NaN en el dataset\n",
        "df = df.dropna()\n",
        "df_test = df_test.dropna()\n"
      ]
    },
    {
      "cell_type": "code",
      "execution_count": null,
      "metadata": {
        "colab": {
          "base_uri": "https://localhost:8080/",
          "height": 468
        },
        "id": "YimZDDcQr7dM",
        "outputId": "94770770-b04b-425d-8d91-d07ab8357971"
      },
      "outputs": [
        {
          "output_type": "execute_result",
          "data": {
            "text/plain": [
              "       capacidad de intercambio cationico (CICE) suma de bases cmol(+)/kg  \\\n",
              "count                                       18856.000000                    \n",
              "mean                                            5.981858                    \n",
              "std                                             4.049285                    \n",
              "min                                             0.532716                    \n",
              "25%                                             3.355694                    \n",
              "50%                                             5.008449                    \n",
              "75%                                             7.428274                    \n",
              "max                                           111.011810                    \n",
              "\n",
              "       pH agua:suelo 2.5:1.0  Materia orgánica (MO) %  \\\n",
              "count           18856.000000             18856.000000   \n",
              "mean                4.918032                 6.127322   \n",
              "std                 0.349279                 5.907580   \n",
              "min                 0.000000                 0.010000   \n",
              "25%                 4.690000                 2.190000   \n",
              "50%                 4.950000                 3.859296   \n",
              "75%                 5.200000                 8.133379   \n",
              "max                 6.580000                68.089436   \n",
              "\n",
              "       Fósforo (P) Bray II mg/kg  Azufre (S) Fosfato monocalcico mg/kg  \\\n",
              "count               18856.000000                          18856.000000   \n",
              "mean                   22.970365                             12.041198   \n",
              "std                    53.267173                             29.739371   \n",
              "min                     0.088036                              0.000000   \n",
              "25%                     3.870000                              3.839479   \n",
              "50%                     5.891789                              6.500000   \n",
              "75%                    17.823794                             11.769610   \n",
              "max                  1708.360000                           1401.904762   \n",
              "\n",
              "       Calcio (Ca) intercambiable cmol(+)/kg  \\\n",
              "count                           18856.000000   \n",
              "mean                                2.516205   \n",
              "std                                 2.845919   \n",
              "min                                 0.031200   \n",
              "25%                                 0.773760   \n",
              "50%                                 1.640776   \n",
              "75%                                 3.220190   \n",
              "max                               103.814240   \n",
              "\n",
              "       Magnesio (Mg) intercambiable cmol(+)/kg  Acidez (Al+H) KCL cmol(+)/kg  \\\n",
              "count                             18856.000000                  18856.000000   \n",
              "mean                                  0.827462                      2.236069   \n",
              "std                                   1.103715                      1.993960   \n",
              "min                                   0.006336                      0.022806   \n",
              "25%                                   0.251975                      0.887262   \n",
              "50%                                   0.481686                      1.715767   \n",
              "75%                                   0.960000                      2.885955   \n",
              "max                                  26.816477                     28.306478   \n",
              "\n",
              "       Aluminio (Al) intercambiable cmol(+)/kg  \\\n",
              "count                             18856.000000   \n",
              "mean                                  1.782121   \n",
              "std                                   1.694569   \n",
              "min                                   0.006857   \n",
              "25%                                   0.612862   \n",
              "50%                                   1.329722   \n",
              "75%                                   2.356247   \n",
              "max                                  25.812844   \n",
              "\n",
              "       Potasio (K) intercambiable cmol(+)/kg  \\\n",
              "count                           18856.000000   \n",
              "mean                                0.289210   \n",
              "std                                 0.352362   \n",
              "min                                 0.000000   \n",
              "25%                                 0.096106   \n",
              "50%                                 0.173575   \n",
              "75%                                 0.331728   \n",
              "max                                 8.307200   \n",
              "\n",
              "       Sodio (Na) intercambiable cmol(+)/kg  \\\n",
              "count                          18856.000000   \n",
              "mean                               0.140758   \n",
              "std                                0.201593   \n",
              "min                                0.000000   \n",
              "25%                                0.067174   \n",
              "50%                                0.140000   \n",
              "75%                                0.140000   \n",
              "max                                9.091082   \n",
              "\n",
              "       Conductividad electrica (CE) relacion 2.5:1.0 dS/m  \\\n",
              "count                                       18856.000000    \n",
              "mean                                            0.348010    \n",
              "std                                             0.660733    \n",
              "min                                             0.000000    \n",
              "25%                                             0.127873    \n",
              "50%                                             0.202377    \n",
              "75%                                             0.333949    \n",
              "max                                            20.660440    \n",
              "\n",
              "       Hierro (Fe) disponible olsen mg/kg  Cobre (Cu) disponible mg/kg  \\\n",
              "count                        18856.000000                 18856.000000   \n",
              "mean                           430.594947                     2.719117   \n",
              "std                            500.177142                     3.826355   \n",
              "min                              0.000000                     0.000000   \n",
              "25%                            110.927500                     1.000000   \n",
              "50%                            288.689500                     1.800000   \n",
              "75%                            567.026250                     3.120000   \n",
              "max                           7972.920000                   221.153925   \n",
              "\n",
              "       Manganeso (Mn) disponible Olsen mg/kg  \\\n",
              "count                           18856.000000   \n",
              "mean                               10.239592   \n",
              "std                                20.119839   \n",
              "min                                 0.000000   \n",
              "25%                                 2.400000   \n",
              "50%                                 5.278000   \n",
              "75%                                10.880000   \n",
              "max                               883.370000   \n",
              "\n",
              "       Zinc (Zn) disponible Olsen mg/kg  Boro (B) disponible mg/kg  \n",
              "count                      18856.000000               18856.000000  \n",
              "mean                           3.744289                   0.223222  \n",
              "std                           10.319579                   0.250361  \n",
              "min                            0.000000                   0.000000  \n",
              "25%                            1.000000                   0.109833  \n",
              "50%                            1.500000                   0.171942  \n",
              "75%                            3.450000                   0.263283  \n",
              "max                          552.381000                   9.229649  "
            ],
            "text/html": [
              "\n",
              "  <div id=\"df-3b9c3238-7a74-4195-9986-6b5c5eeeef99\">\n",
              "    <div class=\"colab-df-container\">\n",
              "      <div>\n",
              "<style scoped>\n",
              "    .dataframe tbody tr th:only-of-type {\n",
              "        vertical-align: middle;\n",
              "    }\n",
              "\n",
              "    .dataframe tbody tr th {\n",
              "        vertical-align: top;\n",
              "    }\n",
              "\n",
              "    .dataframe thead th {\n",
              "        text-align: right;\n",
              "    }\n",
              "</style>\n",
              "<table border=\"1\" class=\"dataframe\">\n",
              "  <thead>\n",
              "    <tr style=\"text-align: right;\">\n",
              "      <th></th>\n",
              "      <th>capacidad de intercambio cationico (CICE) suma de bases cmol(+)/kg</th>\n",
              "      <th>pH agua:suelo 2.5:1.0</th>\n",
              "      <th>Materia orgánica (MO) %</th>\n",
              "      <th>Fósforo (P) Bray II mg/kg</th>\n",
              "      <th>Azufre (S) Fosfato monocalcico mg/kg</th>\n",
              "      <th>Calcio (Ca) intercambiable cmol(+)/kg</th>\n",
              "      <th>Magnesio (Mg) intercambiable cmol(+)/kg</th>\n",
              "      <th>Acidez (Al+H) KCL cmol(+)/kg</th>\n",
              "      <th>Aluminio (Al) intercambiable cmol(+)/kg</th>\n",
              "      <th>Potasio (K) intercambiable cmol(+)/kg</th>\n",
              "      <th>Sodio (Na) intercambiable cmol(+)/kg</th>\n",
              "      <th>Conductividad electrica (CE) relacion 2.5:1.0 dS/m</th>\n",
              "      <th>Hierro (Fe) disponible olsen mg/kg</th>\n",
              "      <th>Cobre (Cu) disponible mg/kg</th>\n",
              "      <th>Manganeso (Mn) disponible Olsen mg/kg</th>\n",
              "      <th>Zinc (Zn) disponible Olsen mg/kg</th>\n",
              "      <th>Boro (B) disponible mg/kg</th>\n",
              "    </tr>\n",
              "  </thead>\n",
              "  <tbody>\n",
              "    <tr>\n",
              "      <th>count</th>\n",
              "      <td>18856.000000</td>\n",
              "      <td>18856.000000</td>\n",
              "      <td>18856.000000</td>\n",
              "      <td>18856.000000</td>\n",
              "      <td>18856.000000</td>\n",
              "      <td>18856.000000</td>\n",
              "      <td>18856.000000</td>\n",
              "      <td>18856.000000</td>\n",
              "      <td>18856.000000</td>\n",
              "      <td>18856.000000</td>\n",
              "      <td>18856.000000</td>\n",
              "      <td>18856.000000</td>\n",
              "      <td>18856.000000</td>\n",
              "      <td>18856.000000</td>\n",
              "      <td>18856.000000</td>\n",
              "      <td>18856.000000</td>\n",
              "      <td>18856.000000</td>\n",
              "    </tr>\n",
              "    <tr>\n",
              "      <th>mean</th>\n",
              "      <td>5.981858</td>\n",
              "      <td>4.918032</td>\n",
              "      <td>6.127322</td>\n",
              "      <td>22.970365</td>\n",
              "      <td>12.041198</td>\n",
              "      <td>2.516205</td>\n",
              "      <td>0.827462</td>\n",
              "      <td>2.236069</td>\n",
              "      <td>1.782121</td>\n",
              "      <td>0.289210</td>\n",
              "      <td>0.140758</td>\n",
              "      <td>0.348010</td>\n",
              "      <td>430.594947</td>\n",
              "      <td>2.719117</td>\n",
              "      <td>10.239592</td>\n",
              "      <td>3.744289</td>\n",
              "      <td>0.223222</td>\n",
              "    </tr>\n",
              "    <tr>\n",
              "      <th>std</th>\n",
              "      <td>4.049285</td>\n",
              "      <td>0.349279</td>\n",
              "      <td>5.907580</td>\n",
              "      <td>53.267173</td>\n",
              "      <td>29.739371</td>\n",
              "      <td>2.845919</td>\n",
              "      <td>1.103715</td>\n",
              "      <td>1.993960</td>\n",
              "      <td>1.694569</td>\n",
              "      <td>0.352362</td>\n",
              "      <td>0.201593</td>\n",
              "      <td>0.660733</td>\n",
              "      <td>500.177142</td>\n",
              "      <td>3.826355</td>\n",
              "      <td>20.119839</td>\n",
              "      <td>10.319579</td>\n",
              "      <td>0.250361</td>\n",
              "    </tr>\n",
              "    <tr>\n",
              "      <th>min</th>\n",
              "      <td>0.532716</td>\n",
              "      <td>0.000000</td>\n",
              "      <td>0.010000</td>\n",
              "      <td>0.088036</td>\n",
              "      <td>0.000000</td>\n",
              "      <td>0.031200</td>\n",
              "      <td>0.006336</td>\n",
              "      <td>0.022806</td>\n",
              "      <td>0.006857</td>\n",
              "      <td>0.000000</td>\n",
              "      <td>0.000000</td>\n",
              "      <td>0.000000</td>\n",
              "      <td>0.000000</td>\n",
              "      <td>0.000000</td>\n",
              "      <td>0.000000</td>\n",
              "      <td>0.000000</td>\n",
              "      <td>0.000000</td>\n",
              "    </tr>\n",
              "    <tr>\n",
              "      <th>25%</th>\n",
              "      <td>3.355694</td>\n",
              "      <td>4.690000</td>\n",
              "      <td>2.190000</td>\n",
              "      <td>3.870000</td>\n",
              "      <td>3.839479</td>\n",
              "      <td>0.773760</td>\n",
              "      <td>0.251975</td>\n",
              "      <td>0.887262</td>\n",
              "      <td>0.612862</td>\n",
              "      <td>0.096106</td>\n",
              "      <td>0.067174</td>\n",
              "      <td>0.127873</td>\n",
              "      <td>110.927500</td>\n",
              "      <td>1.000000</td>\n",
              "      <td>2.400000</td>\n",
              "      <td>1.000000</td>\n",
              "      <td>0.109833</td>\n",
              "    </tr>\n",
              "    <tr>\n",
              "      <th>50%</th>\n",
              "      <td>5.008449</td>\n",
              "      <td>4.950000</td>\n",
              "      <td>3.859296</td>\n",
              "      <td>5.891789</td>\n",
              "      <td>6.500000</td>\n",
              "      <td>1.640776</td>\n",
              "      <td>0.481686</td>\n",
              "      <td>1.715767</td>\n",
              "      <td>1.329722</td>\n",
              "      <td>0.173575</td>\n",
              "      <td>0.140000</td>\n",
              "      <td>0.202377</td>\n",
              "      <td>288.689500</td>\n",
              "      <td>1.800000</td>\n",
              "      <td>5.278000</td>\n",
              "      <td>1.500000</td>\n",
              "      <td>0.171942</td>\n",
              "    </tr>\n",
              "    <tr>\n",
              "      <th>75%</th>\n",
              "      <td>7.428274</td>\n",
              "      <td>5.200000</td>\n",
              "      <td>8.133379</td>\n",
              "      <td>17.823794</td>\n",
              "      <td>11.769610</td>\n",
              "      <td>3.220190</td>\n",
              "      <td>0.960000</td>\n",
              "      <td>2.885955</td>\n",
              "      <td>2.356247</td>\n",
              "      <td>0.331728</td>\n",
              "      <td>0.140000</td>\n",
              "      <td>0.333949</td>\n",
              "      <td>567.026250</td>\n",
              "      <td>3.120000</td>\n",
              "      <td>10.880000</td>\n",
              "      <td>3.450000</td>\n",
              "      <td>0.263283</td>\n",
              "    </tr>\n",
              "    <tr>\n",
              "      <th>max</th>\n",
              "      <td>111.011810</td>\n",
              "      <td>6.580000</td>\n",
              "      <td>68.089436</td>\n",
              "      <td>1708.360000</td>\n",
              "      <td>1401.904762</td>\n",
              "      <td>103.814240</td>\n",
              "      <td>26.816477</td>\n",
              "      <td>28.306478</td>\n",
              "      <td>25.812844</td>\n",
              "      <td>8.307200</td>\n",
              "      <td>9.091082</td>\n",
              "      <td>20.660440</td>\n",
              "      <td>7972.920000</td>\n",
              "      <td>221.153925</td>\n",
              "      <td>883.370000</td>\n",
              "      <td>552.381000</td>\n",
              "      <td>9.229649</td>\n",
              "    </tr>\n",
              "  </tbody>\n",
              "</table>\n",
              "</div>\n",
              "      <button class=\"colab-df-convert\" onclick=\"convertToInteractive('df-3b9c3238-7a74-4195-9986-6b5c5eeeef99')\"\n",
              "              title=\"Convert this dataframe to an interactive table.\"\n",
              "              style=\"display:none;\">\n",
              "        \n",
              "  <svg xmlns=\"http://www.w3.org/2000/svg\" height=\"24px\"viewBox=\"0 0 24 24\"\n",
              "       width=\"24px\">\n",
              "    <path d=\"M0 0h24v24H0V0z\" fill=\"none\"/>\n",
              "    <path d=\"M18.56 5.44l.94 2.06.94-2.06 2.06-.94-2.06-.94-.94-2.06-.94 2.06-2.06.94zm-11 1L8.5 8.5l.94-2.06 2.06-.94-2.06-.94L8.5 2.5l-.94 2.06-2.06.94zm10 10l.94 2.06.94-2.06 2.06-.94-2.06-.94-.94-2.06-.94 2.06-2.06.94z\"/><path d=\"M17.41 7.96l-1.37-1.37c-.4-.4-.92-.59-1.43-.59-.52 0-1.04.2-1.43.59L10.3 9.45l-7.72 7.72c-.78.78-.78 2.05 0 2.83L4 21.41c.39.39.9.59 1.41.59.51 0 1.02-.2 1.41-.59l7.78-7.78 2.81-2.81c.8-.78.8-2.07 0-2.86zM5.41 20L4 18.59l7.72-7.72 1.47 1.35L5.41 20z\"/>\n",
              "  </svg>\n",
              "      </button>\n",
              "      \n",
              "  <style>\n",
              "    .colab-df-container {\n",
              "      display:flex;\n",
              "      flex-wrap:wrap;\n",
              "      gap: 12px;\n",
              "    }\n",
              "\n",
              "    .colab-df-convert {\n",
              "      background-color: #E8F0FE;\n",
              "      border: none;\n",
              "      border-radius: 50%;\n",
              "      cursor: pointer;\n",
              "      display: none;\n",
              "      fill: #1967D2;\n",
              "      height: 32px;\n",
              "      padding: 0 0 0 0;\n",
              "      width: 32px;\n",
              "    }\n",
              "\n",
              "    .colab-df-convert:hover {\n",
              "      background-color: #E2EBFA;\n",
              "      box-shadow: 0px 1px 2px rgba(60, 64, 67, 0.3), 0px 1px 3px 1px rgba(60, 64, 67, 0.15);\n",
              "      fill: #174EA6;\n",
              "    }\n",
              "\n",
              "    [theme=dark] .colab-df-convert {\n",
              "      background-color: #3B4455;\n",
              "      fill: #D2E3FC;\n",
              "    }\n",
              "\n",
              "    [theme=dark] .colab-df-convert:hover {\n",
              "      background-color: #434B5C;\n",
              "      box-shadow: 0px 1px 3px 1px rgba(0, 0, 0, 0.15);\n",
              "      filter: drop-shadow(0px 1px 2px rgba(0, 0, 0, 0.3));\n",
              "      fill: #FFFFFF;\n",
              "    }\n",
              "  </style>\n",
              "\n",
              "      <script>\n",
              "        const buttonEl =\n",
              "          document.querySelector('#df-3b9c3238-7a74-4195-9986-6b5c5eeeef99 button.colab-df-convert');\n",
              "        buttonEl.style.display =\n",
              "          google.colab.kernel.accessAllowed ? 'block' : 'none';\n",
              "\n",
              "        async function convertToInteractive(key) {\n",
              "          const element = document.querySelector('#df-3b9c3238-7a74-4195-9986-6b5c5eeeef99');\n",
              "          const dataTable =\n",
              "            await google.colab.kernel.invokeFunction('convertToInteractive',\n",
              "                                                     [key], {});\n",
              "          if (!dataTable) return;\n",
              "\n",
              "          const docLinkHtml = 'Like what you see? Visit the ' +\n",
              "            '<a target=\"_blank\" href=https://colab.research.google.com/notebooks/data_table.ipynb>data table notebook</a>'\n",
              "            + ' to learn more about interactive tables.';\n",
              "          element.innerHTML = '';\n",
              "          dataTable['output_type'] = 'display_data';\n",
              "          await google.colab.output.renderOutput(dataTable, element);\n",
              "          const docLink = document.createElement('div');\n",
              "          docLink.innerHTML = docLinkHtml;\n",
              "          element.appendChild(docLink);\n",
              "        }\n",
              "      </script>\n",
              "    </div>\n",
              "  </div>\n",
              "  "
            ]
          },
          "metadata": {},
          "execution_count": 7
        }
      ],
      "source": [
        "df.describe()"
      ]
    },
    {
      "cell_type": "code",
      "execution_count": null,
      "metadata": {
        "colab": {
          "base_uri": "https://localhost:8080/"
        },
        "id": "krunoesQr7dP",
        "outputId": "6686d569-c781-4177-b0cd-e05b5ea71511"
      },
      "outputs": [
        {
          "output_type": "stream",
          "name": "stdout",
          "text": [
            "datos - numero filas / columnas (18856, 17)\n",
            "test - numero filas /columnas (2095, 17)\n"
          ]
        }
      ],
      "source": [
        "#info de las filas y columnas\n",
        "datos = df.shape\n",
        "test = df_test.shape\n",
        "print(\"datos - numero filas / columnas\",datos)\n",
        "print(\"test - numero filas /columnas\",test)"
      ]
    },
    {
      "cell_type": "code",
      "execution_count": null,
      "metadata": {
        "colab": {
          "base_uri": "https://localhost:8080/"
        },
        "id": "N1E8_czbr7dS",
        "outputId": "823cd42c-5a3f-4620-fd4b-1c38a72bcbbb"
      },
      "outputs": [
        {
          "output_type": "execute_result",
          "data": {
            "text/plain": [
              "Index(['capacidad de intercambio cationico (CICE) suma de bases cmol(+)/kg',\n",
              "       'pH agua:suelo 2.5:1.0', 'Materia orgánica (MO) %',\n",
              "       'Fósforo (P) Bray II mg/kg', 'Azufre (S) Fosfato monocalcico mg/kg',\n",
              "       'Calcio (Ca) intercambiable cmol(+)/kg',\n",
              "       'Magnesio (Mg) intercambiable cmol(+)/kg',\n",
              "       'Acidez (Al+H) KCL cmol(+)/kg',\n",
              "       'Aluminio (Al) intercambiable cmol(+)/kg',\n",
              "       'Potasio (K) intercambiable cmol(+)/kg',\n",
              "       'Sodio (Na) intercambiable cmol(+)/kg',\n",
              "       'Conductividad electrica (CE) relacion 2.5:1.0 dS/m',\n",
              "       'Hierro (Fe) disponible olsen mg/kg', 'Cobre (Cu) disponible mg/kg',\n",
              "       'Manganeso (Mn) disponible Olsen mg/kg',\n",
              "       'Zinc (Zn) disponible Olsen mg/kg', 'Boro (B) disponible mg/kg'],\n",
              "      dtype='object')"
            ]
          },
          "metadata": {},
          "execution_count": 9
        }
      ],
      "source": [
        "#mostrar columnas\n",
        "df.columns"
      ]
    },
    {
      "cell_type": "code",
      "execution_count": null,
      "metadata": {
        "colab": {
          "base_uri": "https://localhost:8080/",
          "height": 249
        },
        "id": "Wrs-Bn9Er7dU",
        "outputId": "0a52c298-9030-4fc0-eb7c-7e9fe4fa38d0"
      },
      "outputs": [
        {
          "output_type": "execute_result",
          "data": {
            "text/plain": [
              "   capacidad de intercambio cationico (CICE) suma de bases cmol(+)/kg  \\\n",
              "0                                           8.079447                    \n",
              "\n",
              "   pH agua:suelo 2.5:1.0  Materia orgánica (MO) %  Fósforo (P) Bray II mg/kg  \\\n",
              "0                   4.87                16.041251                    64.1992   \n",
              "\n",
              "   Azufre (S) Fosfato monocalcico mg/kg  \\\n",
              "0                               5.52356   \n",
              "\n",
              "   Calcio (Ca) intercambiable cmol(+)/kg  \\\n",
              "0                               2.234775   \n",
              "\n",
              "   Magnesio (Mg) intercambiable cmol(+)/kg  Acidez (Al+H) KCL cmol(+)/kg  \\\n",
              "0                                 0.346672                      5.028454   \n",
              "\n",
              "   Aluminio (Al) intercambiable cmol(+)/kg  \\\n",
              "0                                  4.64315   \n",
              "\n",
              "   Potasio (K) intercambiable cmol(+)/kg  \\\n",
              "0                               0.313188   \n",
              "\n",
              "   Sodio (Na) intercambiable cmol(+)/kg  \\\n",
              "0                              0.156357   \n",
              "\n",
              "   Conductividad electrica (CE) relacion 2.5:1.0 dS/m  \\\n",
              "0                                           0.374107    \n",
              "\n",
              "   Hierro (Fe) disponible olsen mg/kg  Cobre (Cu) disponible mg/kg  \\\n",
              "0                            1685.377                        4.124   \n",
              "\n",
              "   Manganeso (Mn) disponible Olsen mg/kg  Zinc (Zn) disponible Olsen mg/kg  \\\n",
              "0                                 17.619                             8.567   \n",
              "\n",
              "   Boro (B) disponible mg/kg  \n",
              "0                   0.302575  "
            ],
            "text/html": [
              "\n",
              "  <div id=\"df-6ece5a6c-7e37-472a-8e6a-3b4637bf7c7f\">\n",
              "    <div class=\"colab-df-container\">\n",
              "      <div>\n",
              "<style scoped>\n",
              "    .dataframe tbody tr th:only-of-type {\n",
              "        vertical-align: middle;\n",
              "    }\n",
              "\n",
              "    .dataframe tbody tr th {\n",
              "        vertical-align: top;\n",
              "    }\n",
              "\n",
              "    .dataframe thead th {\n",
              "        text-align: right;\n",
              "    }\n",
              "</style>\n",
              "<table border=\"1\" class=\"dataframe\">\n",
              "  <thead>\n",
              "    <tr style=\"text-align: right;\">\n",
              "      <th></th>\n",
              "      <th>capacidad de intercambio cationico (CICE) suma de bases cmol(+)/kg</th>\n",
              "      <th>pH agua:suelo 2.5:1.0</th>\n",
              "      <th>Materia orgánica (MO) %</th>\n",
              "      <th>Fósforo (P) Bray II mg/kg</th>\n",
              "      <th>Azufre (S) Fosfato monocalcico mg/kg</th>\n",
              "      <th>Calcio (Ca) intercambiable cmol(+)/kg</th>\n",
              "      <th>Magnesio (Mg) intercambiable cmol(+)/kg</th>\n",
              "      <th>Acidez (Al+H) KCL cmol(+)/kg</th>\n",
              "      <th>Aluminio (Al) intercambiable cmol(+)/kg</th>\n",
              "      <th>Potasio (K) intercambiable cmol(+)/kg</th>\n",
              "      <th>Sodio (Na) intercambiable cmol(+)/kg</th>\n",
              "      <th>Conductividad electrica (CE) relacion 2.5:1.0 dS/m</th>\n",
              "      <th>Hierro (Fe) disponible olsen mg/kg</th>\n",
              "      <th>Cobre (Cu) disponible mg/kg</th>\n",
              "      <th>Manganeso (Mn) disponible Olsen mg/kg</th>\n",
              "      <th>Zinc (Zn) disponible Olsen mg/kg</th>\n",
              "      <th>Boro (B) disponible mg/kg</th>\n",
              "    </tr>\n",
              "  </thead>\n",
              "  <tbody>\n",
              "    <tr>\n",
              "      <th>0</th>\n",
              "      <td>8.079447</td>\n",
              "      <td>4.87</td>\n",
              "      <td>16.041251</td>\n",
              "      <td>64.1992</td>\n",
              "      <td>5.52356</td>\n",
              "      <td>2.234775</td>\n",
              "      <td>0.346672</td>\n",
              "      <td>5.028454</td>\n",
              "      <td>4.64315</td>\n",
              "      <td>0.313188</td>\n",
              "      <td>0.156357</td>\n",
              "      <td>0.374107</td>\n",
              "      <td>1685.377</td>\n",
              "      <td>4.124</td>\n",
              "      <td>17.619</td>\n",
              "      <td>8.567</td>\n",
              "      <td>0.302575</td>\n",
              "    </tr>\n",
              "  </tbody>\n",
              "</table>\n",
              "</div>\n",
              "      <button class=\"colab-df-convert\" onclick=\"convertToInteractive('df-6ece5a6c-7e37-472a-8e6a-3b4637bf7c7f')\"\n",
              "              title=\"Convert this dataframe to an interactive table.\"\n",
              "              style=\"display:none;\">\n",
              "        \n",
              "  <svg xmlns=\"http://www.w3.org/2000/svg\" height=\"24px\"viewBox=\"0 0 24 24\"\n",
              "       width=\"24px\">\n",
              "    <path d=\"M0 0h24v24H0V0z\" fill=\"none\"/>\n",
              "    <path d=\"M18.56 5.44l.94 2.06.94-2.06 2.06-.94-2.06-.94-.94-2.06-.94 2.06-2.06.94zm-11 1L8.5 8.5l.94-2.06 2.06-.94-2.06-.94L8.5 2.5l-.94 2.06-2.06.94zm10 10l.94 2.06.94-2.06 2.06-.94-2.06-.94-.94-2.06-.94 2.06-2.06.94z\"/><path d=\"M17.41 7.96l-1.37-1.37c-.4-.4-.92-.59-1.43-.59-.52 0-1.04.2-1.43.59L10.3 9.45l-7.72 7.72c-.78.78-.78 2.05 0 2.83L4 21.41c.39.39.9.59 1.41.59.51 0 1.02-.2 1.41-.59l7.78-7.78 2.81-2.81c.8-.78.8-2.07 0-2.86zM5.41 20L4 18.59l7.72-7.72 1.47 1.35L5.41 20z\"/>\n",
              "  </svg>\n",
              "      </button>\n",
              "      \n",
              "  <style>\n",
              "    .colab-df-container {\n",
              "      display:flex;\n",
              "      flex-wrap:wrap;\n",
              "      gap: 12px;\n",
              "    }\n",
              "\n",
              "    .colab-df-convert {\n",
              "      background-color: #E8F0FE;\n",
              "      border: none;\n",
              "      border-radius: 50%;\n",
              "      cursor: pointer;\n",
              "      display: none;\n",
              "      fill: #1967D2;\n",
              "      height: 32px;\n",
              "      padding: 0 0 0 0;\n",
              "      width: 32px;\n",
              "    }\n",
              "\n",
              "    .colab-df-convert:hover {\n",
              "      background-color: #E2EBFA;\n",
              "      box-shadow: 0px 1px 2px rgba(60, 64, 67, 0.3), 0px 1px 3px 1px rgba(60, 64, 67, 0.15);\n",
              "      fill: #174EA6;\n",
              "    }\n",
              "\n",
              "    [theme=dark] .colab-df-convert {\n",
              "      background-color: #3B4455;\n",
              "      fill: #D2E3FC;\n",
              "    }\n",
              "\n",
              "    [theme=dark] .colab-df-convert:hover {\n",
              "      background-color: #434B5C;\n",
              "      box-shadow: 0px 1px 3px 1px rgba(0, 0, 0, 0.15);\n",
              "      filter: drop-shadow(0px 1px 2px rgba(0, 0, 0, 0.3));\n",
              "      fill: #FFFFFF;\n",
              "    }\n",
              "  </style>\n",
              "\n",
              "      <script>\n",
              "        const buttonEl =\n",
              "          document.querySelector('#df-6ece5a6c-7e37-472a-8e6a-3b4637bf7c7f button.colab-df-convert');\n",
              "        buttonEl.style.display =\n",
              "          google.colab.kernel.accessAllowed ? 'block' : 'none';\n",
              "\n",
              "        async function convertToInteractive(key) {\n",
              "          const element = document.querySelector('#df-6ece5a6c-7e37-472a-8e6a-3b4637bf7c7f');\n",
              "          const dataTable =\n",
              "            await google.colab.kernel.invokeFunction('convertToInteractive',\n",
              "                                                     [key], {});\n",
              "          if (!dataTable) return;\n",
              "\n",
              "          const docLinkHtml = 'Like what you see? Visit the ' +\n",
              "            '<a target=\"_blank\" href=https://colab.research.google.com/notebooks/data_table.ipynb>data table notebook</a>'\n",
              "            + ' to learn more about interactive tables.';\n",
              "          element.innerHTML = '';\n",
              "          dataTable['output_type'] = 'display_data';\n",
              "          await google.colab.output.renderOutput(dataTable, element);\n",
              "          const docLink = document.createElement('div');\n",
              "          docLink.innerHTML = docLinkHtml;\n",
              "          element.appendChild(docLink);\n",
              "        }\n",
              "      </script>\n",
              "    </div>\n",
              "  </div>\n",
              "  "
            ]
          },
          "metadata": {},
          "execution_count": 10
        }
      ],
      "source": [
        "#mostrar la primera fila del dataset\n",
        "df.head(1)"
      ]
    },
    {
      "cell_type": "markdown",
      "source": [
        "# Preparacion de datos "
      ],
      "metadata": {
        "id": "xsJdV1Xu67Eu"
      }
    },
    {
      "cell_type": "code",
      "execution_count": null,
      "metadata": {
        "id": "G3S3xZU0r7di"
      },
      "outputs": [],
      "source": [
        "#quitar variable a predecir\n",
        "features = df.drop(['capacidad de intercambio cationico (CICE) suma de bases cmol(+)/kg'], axis=1)\n",
        "\n",
        "target = df['capacidad de intercambio cationico (CICE) suma de bases cmol(+)/kg']"
      ]
    },
    {
      "cell_type": "code",
      "source": [
        "#\n",
        "features_test = df_test.drop(['capacidad de intercambio cationico (CICE) suma de bases cmol(+)/kg'], axis=1)\n",
        "\n",
        "target_test = df_test['capacidad de intercambio cationico (CICE) suma de bases cmol(+)/kg']"
      ],
      "metadata": {
        "id": "eDe5aT05mODA"
      },
      "execution_count": null,
      "outputs": []
    },
    {
      "cell_type": "code",
      "execution_count": null,
      "metadata": {
        "id": "D6WaPLjVr7dj"
      },
      "outputs": [],
      "source": [
        "# inicializando listas vacias para agregar todos los nombres de los modelos y sus correspondientes nombres\n",
        "acc = []\n",
        "model = []"
      ]
    },
    {
      "cell_type": "code",
      "execution_count": null,
      "metadata": {
        "colab": {
          "base_uri": "https://localhost:8080/"
        },
        "id": "NKJjDclXr7dk",
        "outputId": "d80348bc-825b-442e-91be-674062d8da16"
      },
      "outputs": [
        {
          "output_type": "stream",
          "name": "stdout",
          "text": [
            "(15084, 16)\n",
            "(3772, 16)\n"
          ]
        }
      ],
      "source": [
        "# Dividiendo en datos de entrenamiento y prueba\n",
        "\n",
        "from sklearn.model_selection import train_test_split\n",
        "# random_state sirve para que siempre se genere la misma particion de datos \n",
        "Xtrain, Xtest, Ytrain, Ytest = train_test_split(features,target,test_size = 0.2,random_state =2)\n",
        "#saber el tamaño de los datos de entrenamiento y prueba\n",
        "print(Xtrain.shape)\n",
        "print(Xtest.shape)"
      ]
    },
    {
      "cell_type": "code",
      "execution_count": null,
      "metadata": {
        "id": "BoaZXx0Qr7dm",
        "outputId": "a77136dc-3ebc-4672-fd5a-d2b5034b8ba4",
        "colab": {
          "base_uri": "https://localhost:8080/"
        }
      },
      "outputs": [
        {
          "output_type": "stream",
          "name": "stdout",
          "text": [
            "<class 'pandas.core.frame.DataFrame'>\n",
            "Int64Index: 15084 entries, 16487 to 2575\n",
            "Data columns (total 16 columns):\n",
            " #   Column                                              Non-Null Count  Dtype  \n",
            "---  ------                                              --------------  -----  \n",
            " 0   pH agua:suelo 2.5:1.0                               15084 non-null  float64\n",
            " 1   Materia orgánica (MO) %                             15084 non-null  float64\n",
            " 2   Fósforo (P) Bray II mg/kg                           15084 non-null  float64\n",
            " 3   Azufre (S) Fosfato monocalcico mg/kg                15084 non-null  float64\n",
            " 4   Calcio (Ca) intercambiable cmol(+)/kg               15084 non-null  float64\n",
            " 5   Magnesio (Mg) intercambiable cmol(+)/kg             15084 non-null  float64\n",
            " 6   Acidez (Al+H) KCL cmol(+)/kg                        15084 non-null  float64\n",
            " 7   Aluminio (Al) intercambiable cmol(+)/kg             15084 non-null  float64\n",
            " 8   Potasio (K) intercambiable cmol(+)/kg               15084 non-null  float64\n",
            " 9   Sodio (Na) intercambiable cmol(+)/kg                15084 non-null  float64\n",
            " 10  Conductividad electrica (CE) relacion 2.5:1.0 dS/m  15084 non-null  float64\n",
            " 11  Hierro (Fe) disponible olsen mg/kg                  15084 non-null  float64\n",
            " 12  Cobre (Cu) disponible mg/kg                         15084 non-null  float64\n",
            " 13  Manganeso (Mn) disponible Olsen mg/kg               15084 non-null  float64\n",
            " 14  Zinc (Zn) disponible Olsen mg/kg                    15084 non-null  float64\n",
            " 15  Boro (B) disponible mg/kg                           15084 non-null  float64\n",
            "dtypes: float64(16)\n",
            "memory usage: 2.0 MB\n"
          ]
        }
      ],
      "source": [
        "Xtrain.info()"
      ]
    },
    {
      "cell_type": "markdown",
      "metadata": {
        "id": "Fk6JvkZVr7do"
      },
      "source": [
        "# Ramdom forest regression \n",
        "Random Forest es un técnica de aprendizaje automático supervisada basada en árboles de decisión. Su principal ventaja es que obtiene un mejor rendimiento de generalización para un rendimiento durante entrenamiento similar\n",
        " [ramdom forest regression](https://www.iartificial.net/random-forest-bosque-aleatorio/)"
      ]
    },
    {
      "cell_type": "code",
      "execution_count": null,
      "metadata": {
        "id": "ZsngBiB7r7dz",
        "outputId": "13e648fe-bacb-4e4c-a641-732b1c440fa5",
        "colab": {
          "base_uri": "https://localhost:8080/"
        }
      },
      "outputs": [
        {
          "output_type": "execute_result",
          "data": {
            "text/plain": [
              "RandomForestRegressor(random_state=42)"
            ]
          },
          "metadata": {},
          "execution_count": 52
        }
      ],
      "source": [
        "#ramdom forest regression\n",
        "from sklearn.ensemble import RandomForestRegressor\n",
        "from sklearn.metrics import mean_squared_error\n",
        "from sklearn.metrics import r2_score\n",
        "from sklearn.metrics import mean_absolute_error\n",
        "from sklearn.metrics import accuracy_score\n",
        "from sklearn.metrics import classification_report\n",
        "from sklearn.metrics import confusion_matrix\n",
        "\n",
        "# Create linear regression object\n",
        "rfr = RandomForestRegressor(n_estimators=100, random_state=42)\n",
        "\n",
        "# Train the model using the training sets\n",
        "rfr.fit(Xtrain, Ytrain)\n"
      ]
    },
    {
      "cell_type": "code",
      "source": [
        "# Make predictions using the testing set\n",
        "y_pred = rfr.predict(Xtest)\n",
        "# The coefficients\n",
        "# The mean squared error\n",
        "print('Mean squared error: %.2f' % mean_squared_error(Ytest, y_pred))\n",
        "# The coefficient of determination: 1 is perfect prediction\n",
        "print('Coefficient of determination: %.2f' % r2_score(Ytest, y_pred))\n",
        "rf_cd = r2_score(Ytest, y_pred)\n",
        "# The mean absolute error\n",
        "print('Mean absolute error: %.2f' % mean_absolute_error(Ytest, y_pred))"
      ],
      "metadata": {
        "colab": {
          "base_uri": "https://localhost:8080/"
        },
        "id": "9QzP0rYIQjf9",
        "outputId": "c9d741f9-9c0f-4007-a308-8382e86ca911"
      },
      "execution_count": null,
      "outputs": [
        {
          "output_type": "stream",
          "name": "stdout",
          "text": [
            "Mean squared error: 1.02\n",
            "Coefficient of determination: 0.94\n",
            "Mean absolute error: 0.19\n"
          ]
        }
      ]
    },
    {
      "cell_type": "code",
      "source": [
        "# Realizar predicciones en el conjunto de datos de prueba\n",
        "y_pred_test = rfr.predict(features_test)\n",
        "\n",
        "# Calcular el error cuadrático medio en el conjunto de datos de prueba\n",
        "mse_test = mean_squared_error(target_test, y_pred_test)\n",
        "print('Error cuadrático medio en el conjunto de datos de prueba: %.2f' % mse_test)\n",
        "\n",
        "# Calcular el coeficiente de determinación en el conjunto de datos de prueba\n",
        "r2_test = r2_score(target_test, y_pred_test)\n",
        "print('Coeficiente de determinación en el conjunto de datos de prueba: %.2f' % r2_test)\n",
        "\n",
        "# Calcular el error absoluto medio en el conjunto de datos de prueba\n",
        "mae_test = mean_absolute_error(target_test, y_pred_test)\n",
        "print('Error absoluto medio en el conjunto de datos de prueba: %.2f' % mae_test)"
      ],
      "metadata": {
        "colab": {
          "base_uri": "https://localhost:8080/"
        },
        "id": "lojiubOGAcr5",
        "outputId": "72e49bef-5cbd-4f22-d7e2-8149af36d272"
      },
      "execution_count": null,
      "outputs": [
        {
          "output_type": "stream",
          "name": "stdout",
          "text": [
            "Error cuadrático medio en el conjunto de datos de prueba: 2.69\n",
            "Coeficiente de determinación en el conjunto de datos de prueba: 0.89\n",
            "Error absoluto medio en el conjunto de datos de prueba: 0.25\n"
          ]
        }
      ]
    },
    {
      "cell_type": "code",
      "source": [
        "\n",
        "# Graficar los valores predichos y reales en el conjunto de datos de prueba\n",
        "plt.scatter(target_test, y_pred_test,color='blue')\n",
        "plt.xlabel('Valores reales')\n",
        "plt.ylabel('Valores predichos')\n",
        "plt.title('Valores reales vs. Valores predichos')\n",
        "plt.show()"
      ],
      "metadata": {
        "colab": {
          "base_uri": "https://localhost:8080/",
          "height": 295
        },
        "id": "FWyPbk3pIXPW",
        "outputId": "a74f2afe-154d-479b-82aa-f16cb96e69f0"
      },
      "execution_count": null,
      "outputs": [
        {
          "output_type": "display_data",
          "data": {
            "text/plain": [
              "<Figure size 432x288 with 1 Axes>"
            ],
            "image/png": "[encoded data removed]"
          },
          "metadata": {
            "needs_background": "light"
          }
        }
      ]
    },
    {
      "cell_type": "code",
      "execution_count": null,
      "metadata": {
        "id": "2Iao26Yvr7d7",
        "colab": {
          "base_uri": "https://localhost:8080/"
        },
        "outputId": "9cbdcecd-c608-4aee-800c-cf0b545ee8c3"
      },
      "outputs": [
        {
          "output_type": "execute_result",
          "data": {
            "text/plain": [
              "array([0.97797714, 0.97461615, 0.9892529 , 0.93699676, 0.97104801])"
            ]
          },
          "metadata": {},
          "execution_count": 63
        }
      ],
      "source": [
        "# Cross validation score (Random Forest Regression)\n",
        "from sklearn.model_selection import cross_val_score\n",
        "#from sklearn.model_selection import train_test_split\n",
        "score_rfr = cross_val_score(rfr,features,target,cv=5)\n",
        "score_rfr"
      ]
    },
    {
      "cell_type": "code",
      "source": [
        "# Cross validation score (Random Forest Regression)\n",
        "from sklearn.model_selection import cross_val_score\n",
        "#from sklearn.model_selection import train_test_split\n",
        "score = cross_val_score(rfr,features_test,target_test,cv=5)\n",
        "print(score.mean())"
      ],
      "metadata": {
        "colab": {
          "base_uri": "https://localhost:8080/"
        },
        "id": "cSoPWY9_mtUZ",
        "outputId": "fbb169bc-7e61-4552-8b52-4b668bfda934"
      },
      "execution_count": null,
      "outputs": [
        {
          "output_type": "stream",
          "name": "stdout",
          "text": [
            "0.8575822438803004\n"
          ]
        }
      ]
    },
    {
      "cell_type": "code",
      "source": [
        "test_score = rfr.score(features, target)\n",
        "test_score"
      ],
      "metadata": {
        "colab": {
          "base_uri": "https://localhost:8080/"
        },
        "id": "BC8oE8WVygNQ",
        "outputId": "235e7a54-71cb-4227-805a-7242bdc088cb"
      },
      "execution_count": null,
      "outputs": [
        {
          "output_type": "execute_result",
          "data": {
            "text/plain": [
              "0.985333112936712"
            ]
          },
          "metadata": {},
          "execution_count": 30
        }
      ]
    },
    {
      "cell_type": "code",
      "source": [
        "test_score = rfr.score(features_test, target_test)\n",
        "test_score"
      ],
      "metadata": {
        "colab": {
          "base_uri": "https://localhost:8080/"
        },
        "id": "JuAdBaY9wag-",
        "outputId": "3c47b069-f4cb-45a6-cad4-45501e932b73"
      },
      "execution_count": null,
      "outputs": [
        {
          "output_type": "execute_result",
          "data": {
            "text/plain": [
              "0.894429430906135"
            ]
          },
          "metadata": {},
          "execution_count": 31
        }
      ]
    },
    {
      "cell_type": "code",
      "execution_count": null,
      "metadata": {
        "id": "CjOdeBe3r7eA"
      },
      "outputs": [],
      "source": [
        "# Grabamos el modelo en el directorio\n",
        "pkl_filename = \"pickle_model_rfr.pkl\"\n",
        "with open(pkl_filename, 'wb') as file:\n",
        "    pickle.dump(rfr, file)"
      ]
    },
    {
      "cell_type": "code",
      "execution_count": null,
      "metadata": {
        "id": "5jLigCgRr7eB"
      },
      "outputs": [],
      "source": [
        "# Cargamos el modelo\n",
        "import pickle\n",
        "pkl_filename = \"pickle_model_rfr.pkl\"\n",
        "with open(pkl_filename, 'rb') as file:\n",
        "    model = pickle.load(file)"
      ]
    },
    {
      "cell_type": "code",
      "execution_count": null,
      "metadata": {
        "id": "wbmEr5vKr7d_",
        "outputId": "e72c1a8d-f9f7-4e56-8cff-b45fcc415df3",
        "colab": {
          "base_uri": "https://localhost:8080/"
        }
      },
      "outputs": [
        {
          "output_type": "execute_result",
          "data": {
            "text/plain": [
              "array([0.01411257, 0.00245457, 0.00203757, 0.09838188, 0.53673752,\n",
              "       0.05552114, 0.12227144, 0.0134767 , 0.00693047, 0.02044576,\n",
              "       0.10442077, 0.00158401, 0.00355915, 0.00881394, 0.00177479,\n",
              "       0.00747772])"
            ]
          },
          "metadata": {},
          "execution_count": 19
        }
      ],
      "source": [
        "#mostrar las entradas del modelo\n",
        "rfr.feature_importances_\n"
      ]
    },
    {
      "cell_type": "code",
      "execution_count": null,
      "metadata": {
        "id": "imHScPEDr7eA",
        "outputId": "771870d6-4caa-4e38-8def-159501f6f742",
        "colab": {
          "base_uri": "https://localhost:8080/"
        }
      },
      "outputs": [
        {
          "output_type": "stream",
          "name": "stdout",
          "text": [
            "[8.58253787]\n"
          ]
        }
      ],
      "source": [
        "#realizar predicciones con el modelo ingresando los datos de entrada\n",
        "data = np.array([[4.87, 16.041250728069, 64.1991999999999, 5.52356020942408, 2.23477545, 0.34667245, 5.02845393817867, 4.6431499301287, 0.313187687999999, 0.156357459999999, 0.3741072, 1685.377, 4.124, 17.619, 8.567, 0.302575107296137]])\n",
        "prediction = rfr.predict(data)\n",
        "print(prediction)"
      ]
    },
    {
      "cell_type": "markdown",
      "source": [
        "# Regresion polinomica con sklearn"
      ],
      "metadata": {
        "id": "t3Lz_SRy5_XX"
      }
    },
    {
      "cell_type": "code",
      "execution_count": null,
      "metadata": {
        "id": "896n9Dx7r7d1",
        "colab": {
          "base_uri": "https://localhost:8080/"
        },
        "outputId": "96dc2312-3c76-4ea9-a2b8-185ec91fda8f"
      },
      "outputs": [
        {
          "output_type": "execute_result",
          "data": {
            "text/plain": [
              "LinearRegression()"
            ]
          },
          "metadata": {},
          "execution_count": 56
        }
      ],
      "source": [
        "#regresion polinomica con sklearn\n",
        "from sklearn.preprocessing import PolynomialFeatures\n",
        "from sklearn.linear_model import LinearRegression\n",
        "from sklearn.metrics import mean_squared_error\n",
        "from sklearn.metrics import r2_score\n",
        "from sklearn.metrics import mean_absolute_error\n",
        "from sklearn.metrics import accuracy_score\n",
        "from sklearn.metrics import classification_report\n",
        "from sklearn.metrics import confusion_matrix\n",
        "\n",
        "# Create linear regression object\n",
        "poly_reg = PolynomialFeatures(degree=2)\n",
        "X_poly = poly_reg.fit_transform(Xtrain)\n",
        "lin_reg_2 = LinearRegression()\n",
        "lin_reg_2.fit(X_poly, Ytrain)\n"
      ]
    },
    {
      "cell_type": "code",
      "source": [
        "# Make predictions using the testing set\n",
        "y_pred = lin_reg_2.predict(poly_reg.fit_transform(Xtest))\n",
        "\n",
        "# The coefficients\n",
        "# The mean squared error\n",
        "print('Mean squared error: %.2f' % mean_squared_error(Ytest, y_pred))\n",
        "# The coefficient of determination: 1 is perfect prediction\n",
        "print('Coefficient of determination: %.2f' % r2_score(Ytest, y_pred))\n",
        "pr_cd = r2_score(Ytest, y_pred)\n",
        "# The mean absolute error\n",
        "print('Mean absolute error: %.2f' % mean_absolute_error(Ytest, y_pred))"
      ],
      "metadata": {
        "colab": {
          "base_uri": "https://localhost:8080/"
        },
        "id": "M_Ej9_KtTYWN",
        "outputId": "ca77eba8-cf86-4f32-8c87-867beac6b0b0"
      },
      "execution_count": null,
      "outputs": [
        {
          "output_type": "stream",
          "name": "stdout",
          "text": [
            "Mean squared error: 0.04\n",
            "Coefficient of determination: 1.00\n",
            "Mean absolute error: 0.06\n"
          ]
        }
      ]
    },
    {
      "cell_type": "code",
      "source": [
        "# Realizar predicciones en el conjunto de datos de prueba\n",
        "y_pred_test = lin_reg_2.predict(poly_reg.fit_transform(features_test))\n",
        "\n",
        "# Calcular el error cuadrático medio en el conjunto de datos de prueba\n",
        "mse_test = mean_squared_error(target_test, y_pred_test)\n",
        "print('Error cuadrático medio en el conjunto de datos de prueba: %.2f' % mse_test)\n",
        "\n",
        "# Calcular el coeficiente de determinación en el conjunto de datos de prueba\n",
        "r2_test = r2_score(target_test, y_pred_test)\n",
        "print('Coeficiente de determinación en el conjunto de datos de prueba: %.2f' % r2_test)\n",
        "\n",
        "# Calcular el error absoluto medio en el conjunto de datos de prueba\n",
        "mae_test = mean_absolute_error(target_test, y_pred_test)\n",
        "print('Error absoluto medio en el conjunto de datos de prueba: %.2f' % mae_test)"
      ],
      "metadata": {
        "colab": {
          "base_uri": "https://localhost:8080/"
        },
        "id": "UXmo8lsUTf4x",
        "outputId": "832df3d9-5243-4c17-878b-b8fef51bb087"
      },
      "execution_count": null,
      "outputs": [
        {
          "output_type": "stream",
          "name": "stdout",
          "text": [
            "Error cuadrático medio en el conjunto de datos de prueba: 0.43\n",
            "Coeficiente de determinación en el conjunto de datos de prueba: 0.98\n",
            "Error absoluto medio en el conjunto de datos de prueba: 0.08\n"
          ]
        }
      ]
    },
    {
      "cell_type": "code",
      "source": [
        "# Cross validation score (Random Forest Regression)\n",
        "from sklearn.model_selection import cross_val_score\n",
        "#from sklearn.model_selection import train_test_split\n",
        "score_lin_reg_2 = cross_val_score(lin_reg_2,features,target,cv=5)\n",
        "score_lin_reg_2"
      ],
      "metadata": {
        "colab": {
          "base_uri": "https://localhost:8080/"
        },
        "id": "AcFV6BNY4LS9",
        "outputId": "96e74965-bad3-4a30-b148-b598810a8dc5"
      },
      "execution_count": null,
      "outputs": [
        {
          "output_type": "execute_result",
          "data": {
            "text/plain": [
              "array([0.99968059, 0.9996652 , 0.99979299, 0.99983004, 0.9847208 ])"
            ]
          },
          "metadata": {},
          "execution_count": 64
        }
      ]
    },
    {
      "cell_type": "code",
      "source": [
        "# Cross validation score (Random Forest Regression)\n",
        "from sklearn.model_selection import cross_val_score\n",
        "#from sklearn.model_selection import train_test_split\n",
        "score = cross_val_score(lin_reg_2,features_test,target_test,cv=5)\n",
        "score"
      ],
      "metadata": {
        "colab": {
          "base_uri": "https://localhost:8080/"
        },
        "id": "ovKg2EFiUG7p",
        "outputId": "4cf463cc-a9eb-40c0-d631-df14d13274c1"
      },
      "execution_count": null,
      "outputs": [
        {
          "output_type": "execute_result",
          "data": {
            "text/plain": [
              "array([0.99794585, 0.99880834, 0.99634614, 0.99597433, 0.99951314])"
            ]
          },
          "metadata": {},
          "execution_count": 61
        }
      ]
    },
    {
      "cell_type": "code",
      "source": [
        "#realizar predicciones con el modelo polinomico ingresando los datos de entrada\n",
        "data = np.array([[4.87, 16.041250728069, 64.1991999999999, 5.52356020942408, 2.23477545,\n",
        "                  0.34667245, 5.02845393817867, 4.6431499301287, 0.313187687999999, 0.156357459999999,\n",
        "                  0.3741072, 1685.377, 4.124, 17.619, 8.567, 0.302575107296137]])\n",
        "data = poly_reg.fit_transform(data)\n",
        "pred = lin_reg_2.predict(data)\n",
        "print(pred)"
      ],
      "metadata": {
        "id": "XkAZYjua3Hss"
      },
      "execution_count": null,
      "outputs": []
    },
    {
      "cell_type": "code",
      "execution_count": null,
      "metadata": {
        "id": "GGFH1ScF3XHW"
      },
      "outputs": [],
      "source": [
        "# Grabamos el modelo en el directorio\n",
        "pkl_filename = \"pickle_model_poly_reg.pkl\"\n",
        "with open(pkl_filename, 'wb') as file:\n",
        "    pickle.dump(lin_reg_2, file)"
      ]
    },
    {
      "cell_type": "code",
      "source": [
        "# Cargamos el modelo\n",
        "import pickle\n",
        "pkl_filename = \"pickle_model_poly_reg.pkl\"\n",
        "with open(pkl_filename, 'rb') as file:\n",
        "    model = pickle.load(file)"
      ],
      "metadata": {
        "id": "K2zAwgoD3kyo"
      },
      "execution_count": null,
      "outputs": []
    },
    {
      "cell_type": "markdown",
      "source": [
        "# crear modelo red neuronal learnig para predecir la capacidad de intercambio cationico (CICE)"
      ],
      "metadata": {
        "id": "xXjwk5ic6Jtn"
      }
    },
    {
      "cell_type": "code",
      "execution_count": null,
      "metadata": {
        "id": "5XXAdV3fr7eC",
        "outputId": "257ae324-cbbc-45f8-83f9-3b1199062998",
        "colab": {
          "base_uri": "https://localhost:8080/"
        }
      },
      "outputs": [
        {
          "output_type": "stream",
          "name": "stdout",
          "text": [
            "Mean squared error: 0.95\n",
            "Coefficient of determination: 0.95\n",
            "Mean absolute error: 0.46\n"
          ]
        }
      ],
      "source": [
        "#crear modelo red neuronal learnig para predecir la capacidad de intercambio cationico (CICE) suma de bases cmol(+)/kg\n",
        "from sklearn.neural_network import MLPRegressor\n",
        "from sklearn.metrics import mean_squared_error\n",
        "from sklearn.metrics import r2_score\n",
        "from sklearn.metrics import mean_absolute_error\n",
        "from sklearn.metrics import accuracy_score\n",
        "from sklearn.metrics import classification_report\n",
        "from sklearn.metrics import confusion_matrix\n",
        "\n",
        "# Create linear regression object\n",
        "mlp = MLPRegressor(hidden_layer_sizes=(100,100,100), max_iter=100)\n",
        "#hidden_layer_sizes=(100,100,100) es la cantidad de neuronas en cada capa oculta\n",
        "# Train the model using the training sets\n",
        "# valores de 15 \n",
        "mlp.fit(Xtrain, Ytrain)\n",
        "\n",
        "# Make predictions using the testing set\n",
        "y_pred = mlp.predict(Xtest)\n",
        "\n",
        "# The coefficients\n",
        "# The mean squared error\n",
        "print('Mean squared error: %.2f' % mean_squared_error(Ytest, y_pred))\n",
        "# The coefficient of determination: 1 is perfect prediction\n",
        "print('Coefficient of determination: %.2f' % r2_score(Ytest, y_pred))\n",
        "nn_cd = r2_score(Ytest, y_pred)\n",
        "# The mean absolute error\n",
        "print('Mean absolute error: %.2f' % mean_absolute_error(Ytest, y_pred))\n",
        "#como funciona Red Neuronal\n"
      ]
    },
    {
      "cell_type": "code",
      "source": [],
      "metadata": {
        "id": "zrpeHRtv4hUZ"
      },
      "execution_count": null,
      "outputs": []
    },
    {
      "cell_type": "code",
      "source": [
        "# Cross validation score (Random Forest Regression)\n",
        "from sklearn.model_selection import cross_val_score\n",
        "#from sklearn.model_selection import train_test_split\n",
        "score = cross_val_score(mlp,features,target,cv=5)\n",
        "score"
      ],
      "metadata": {
        "colab": {
          "base_uri": "https://localhost:8080/"
        },
        "outputId": "9848feae-642a-4ec0-c460-26678c1a2922",
        "id": "cLDLsLCz4jFZ"
      },
      "execution_count": null,
      "outputs": [
        {
          "output_type": "execute_result",
          "data": {
            "text/plain": [
              "array([0.95556434, 0.93580566, 0.88352805, 0.970684  , 0.9520005 ])"
            ]
          },
          "metadata": {},
          "execution_count": 50
        }
      ]
    },
    {
      "cell_type": "code",
      "source": [
        "#realizar predicciones con el modelo ingresando los datos de entrada\n",
        "data = np.array([[4.87, 16.041250728069, 64.1991999999999, 5.52356020942408, 2.23477545, 0.34667245, 5.02845393817867, 4.6431499301287, 0.313187687999999, 0.156357459999999, 0.3741072, 1685.377, 4.124, 17.619, 8.567, 0.302575107296137]])\n",
        "prediction = mlp.predict(data)\n",
        "print(prediction)"
      ],
      "metadata": {
        "colab": {
          "base_uri": "https://localhost:8080/"
        },
        "id": "QclA5im14jFd",
        "outputId": "709a80a9-2c97-4a9e-e6a3-3753cc6ffce3"
      },
      "execution_count": null,
      "outputs": [
        {
          "output_type": "stream",
          "name": "stdout",
          "text": [
            "[9.28759965]\n"
          ]
        }
      ]
    },
    {
      "cell_type": "code",
      "execution_count": null,
      "metadata": {
        "id": "kSBpT_bl4jFe"
      },
      "outputs": [],
      "source": [
        "# Grabamos el modelo en el directorio\n",
        "pkl_filename = \"pickle_model_mlp.pkl\"\n",
        "with open(pkl_filename, 'wb') as file:\n",
        "    pickle.dump(mlp, file)"
      ]
    },
    {
      "cell_type": "code",
      "source": [
        "# Cargamos el modelo\n",
        "import pickle\n",
        "pkl_filename = \"pickle_model_mlp.pkl\"\n",
        "with open(pkl_filename, 'rb') as file:\n",
        "    model = pickle.load(file)"
      ],
      "metadata": {
        "id": "8QBqquOj4jFf"
      },
      "execution_count": null,
      "outputs": []
    },
    {
      "cell_type": "markdown",
      "source": [
        "# KNeighborsRegressor"
      ],
      "metadata": {
        "id": "2nERYode6Rd0"
      }
    },
    {
      "cell_type": "code",
      "execution_count": null,
      "metadata": {
        "id": "j3ZJR8hWr7eH",
        "outputId": "70287cd6-2642-4513-89be-06aac207c684",
        "colab": {
          "base_uri": "https://localhost:8080/"
        }
      },
      "outputs": [
        {
          "output_type": "stream",
          "name": "stdout",
          "text": [
            "Mean squared error: 13.83\n",
            "Coefficient of determination: 0.21\n",
            "Mean absolute error: 2.34\n"
          ]
        }
      ],
      "source": [
        "from sklearn.neighbors import KNeighborsRegressor\n",
        "from sklearn.metrics import mean_squared_error\n",
        "from sklearn.metrics import r2_score\n",
        "from sklearn.metrics import mean_absolute_error\n",
        "from sklearn.metrics import accuracy_score\n",
        "from sklearn.metrics import classification_report\n",
        "from sklearn.metrics import confusion_matrix\n",
        "\n",
        "# Create linear regression object\n",
        "knn = KNeighborsRegressor(n_neighbors=5)\n",
        "\n",
        "# Train the model using the training sets\n",
        "knn.fit(Xtrain, Ytrain)\n",
        "\n",
        "# Make predictions using the testing set\n",
        "y_pred = knn.predict(Xtest)\n",
        "\n",
        "# The coefficients\n",
        "# The mean squared error\n",
        "print('Mean squared error: %.2f' % mean_squared_error(Ytest, y_pred))\n",
        "# The coefficient of determination: 1 is perfect prediction\n",
        "print('Coefficient of determination: %.2f' % r2_score(Ytest, y_pred))\n",
        "knn_cd = r2_score(Ytest, y_pred)\n",
        "# The mean absolute error\n",
        "print('Mean absolute error: %.2f' % mean_absolute_error(Ytest, y_pred))\n"
      ]
    },
    {
      "cell_type": "markdown",
      "source": [
        "# Crear modelo de SVM para predecir la capacidad de intercambio cationico (CICE) suma de bases cmol(+)/kg"
      ],
      "metadata": {
        "id": "shIJCZOU6XPS"
      }
    },
    {
      "cell_type": "code",
      "execution_count": null,
      "metadata": {
        "id": "ltGMq8pCr7eI",
        "colab": {
          "base_uri": "https://localhost:8080/"
        },
        "outputId": "c19f3504-dc0d-4435-86bd-b17532c56a8d"
      },
      "outputs": [
        {
          "output_type": "stream",
          "name": "stdout",
          "text": [
            "Mean squared error: 16.48\n",
            "Coefficient of determination: 0.06\n",
            "Mean absolute error: 2.82\n"
          ]
        }
      ],
      "source": [
        "#crear modelo de SVM para predecir la capacidad de intercambio cationico (CICE) suma de bases cmol(+)/kg\n",
        "from sklearn.svm import SVR\n",
        "from sklearn.metrics import mean_squared_error\n",
        "from sklearn.metrics import r2_score\n",
        "from sklearn.metrics import mean_absolute_error\n",
        "from sklearn.metrics import accuracy_score\n",
        "from sklearn.metrics import classification_report\n",
        "from sklearn.metrics import confusion_matrix\n",
        "\n",
        "# Create linear regression object\n",
        "svr = SVR(kernel='rbf', C=100, gamma=0.1, epsilon=.1)\n",
        "\n",
        "# Train the model using the training sets\n",
        "svr.fit(Xtrain, Ytrain)\n",
        "\n",
        "# Make predictions using the testing set\n",
        "y_pred = svr.predict(Xtest)\n",
        "\n",
        "# The coefficients\n",
        "# The mean squared error\n",
        "print('Mean squared error: %.2f' % mean_squared_error(Ytest, y_pred))\n",
        "# The coefficient of determination: 1 is perfect prediction\n",
        "print('Coefficient of determination: %.2f' % r2_score(Ytest, y_pred))\n",
        "svm_cd = r2_score(Ytest, y_pred)\n",
        "# The mean absolute error\n",
        "print('Mean absolute error: %.2f' % mean_absolute_error(Ytest, y_pred))\n",
        "\n"
      ]
    },
    {
      "cell_type": "markdown",
      "source": [
        "# Stochastic Gradient Descent (SGD) SGDRegressor"
      ],
      "metadata": {
        "id": "cFUuROYa6eVn"
      }
    },
    {
      "cell_type": "code",
      "execution_count": null,
      "metadata": {
        "id": "Do1Tcw9Ur7eQ",
        "outputId": "2e737ccd-e231-49db-9231-9ff7353b8a5e",
        "colab": {
          "base_uri": "https://localhost:8080/"
        }
      },
      "outputs": [
        {
          "output_type": "stream",
          "name": "stdout",
          "text": [
            "Mean squared error: 5474504018517276941791264768.00\n",
            "Coefficient of determination: -311579368343434562633728000.00\n",
            "Mean absolute error: 51511152091986.41\n"
          ]
        }
      ],
      "source": [
        "#Stochastic Gradient Descent (SGD) SGDRegressor\n",
        "from sklearn.linear_model import SGDRegressor\n",
        "from sklearn.metrics import mean_squared_error\n",
        "from sklearn.metrics import r2_score\n",
        "from sklearn.metrics import mean_absolute_error\n",
        "from sklearn.metrics import accuracy_score\n",
        "from sklearn.metrics import classification_report\n",
        "from sklearn.metrics import confusion_matrix\n",
        "\n",
        "# Create linear regression object\n",
        "sgd = SGDRegressor(max_iter=1000, tol=1e-3)\n",
        "\n",
        "# Train the model using the training sets\n",
        "sgd.fit(Xtrain, Ytrain)\n",
        "\n",
        "# Make predictions using the testing set\n",
        "y_pred = sgd.predict(Xtest)\n",
        "\n",
        "# The coefficients\n",
        "# The mean squared error\n",
        "print('Mean squared error: %.2f' % mean_squared_error(Ytest, y_pred))\n",
        "# The coefficient of determination: 1 is perfect prediction\n",
        "print('Coefficient of determination: %.2f' % r2_score(Ytest, y_pred))\n",
        "sgd_cd = r2_score(Ytest, y_pred)\n",
        "# The mean absolute error\n",
        "print('Mean absolute error: %.2f' % mean_absolute_error(Ytest, y_pred))\n"
      ]
    },
    {
      "cell_type": "markdown",
      "source": [
        "# DecisionTreeRegressor"
      ],
      "metadata": {
        "id": "5aWoLm_s6kgk"
      }
    },
    {
      "cell_type": "code",
      "execution_count": null,
      "metadata": {
        "id": "y0fYJK4Tr7eR",
        "outputId": "9fd830b8-8d93-4ace-acb0-61228612b2e5",
        "colab": {
          "base_uri": "https://localhost:8080/"
        }
      },
      "outputs": [
        {
          "output_type": "stream",
          "name": "stdout",
          "text": [
            "Mean squared error: 1.39\n",
            "Coefficient of determination: 0.92\n",
            "Mean absolute error: 0.64\n"
          ]
        }
      ],
      "source": [
        "#DecisionTreeRegressor\n",
        "from sklearn.tree import DecisionTreeRegressor\n",
        "from sklearn.metrics import mean_squared_error\n",
        "from sklearn.metrics import r2_score\n",
        "from sklearn.metrics import mean_absolute_error\n",
        "from sklearn.metrics import accuracy_score\n",
        "from sklearn.metrics import classification_report\n",
        "from sklearn.metrics import confusion_matrix\n",
        "\n",
        "# Create linear regression object\n",
        "dtr = DecisionTreeRegressor()\n",
        "\n",
        "# Train the model using the training sets\n",
        "dtr.fit(Xtrain, Ytrain)\n",
        "\n",
        "# Make predictions using the testing set\n",
        "y_pred = dtr.predict(Xtest)\n",
        "\n",
        "# The coefficients\n",
        "# The mean squared error\n",
        "print('Mean squared error: %.2f' % mean_squared_error(Ytest, y_pred))\n",
        "# The coefficient of determination: 1 is perfect prediction\n",
        "print('Coefficient of determination: %.2f' % r2_score(Ytest, y_pred))\n",
        "dtr_cd = r2_score(Ytest, y_pred)\n",
        "# The mean absolute error\n",
        "print('Mean absolute error: %.2f' % mean_absolute_error(Ytest, y_pred))\n",
        "\n",
        "\n"
      ]
    },
    {
      "cell_type": "code",
      "execution_count": null,
      "metadata": {
        "id": "M8_-g_-Yr7eT",
        "outputId": "6c00cbe9-8ecb-4fe3-a458-e8d1577d55f7",
        "colab": {
          "base_uri": "https://localhost:8080/"
        }
      },
      "outputs": [
        {
          "output_type": "stream",
          "name": "stdout",
          "text": [
            "[9.2841847]\n"
          ]
        }
      ],
      "source": [
        "data = np.array([[4.87, 16.041250728069, 64.1991999999999, 5.52356020942408, 2.23477545, 0.34667245, 5.02845393817867, 4.6431499301287, 0.313187687999999, 0.156357459999999, 0.3741072, 1685.377, 4.124, 17.619, 8.567, 0.302575107296137]])\n",
        "prediction = dtr.predict(data)\n",
        "print(prediction)\n",
        "#8.07944698617867"
      ]
    },
    {
      "cell_type": "code",
      "execution_count": null,
      "metadata": {
        "id": "FAxVLAH1r7eU"
      },
      "outputs": [],
      "source": [
        "# Grabamos el modelo en el directorio\n",
        "\n",
        "pkl_filename = \"pickle_model_dtr.pkl\"\n",
        "with open(pkl_filename, 'wb') as file:\n",
        "    pickle.dump(dtr, file)"
      ]
    },
    {
      "cell_type": "code",
      "execution_count": null,
      "metadata": {
        "id": "KoJVUAzur7eV",
        "colab": {
          "base_uri": "https://localhost:8080/",
          "height": 217
        },
        "outputId": "9db8917a-cc85-414e-b0f0-fd5ec2eb82cb"
      },
      "outputs": [
        {
          "output_type": "error",
          "ename": "FileNotFoundError",
          "evalue": "ignored",
          "traceback": [
            "\u001b[0;31m---------------------------------------------------------------------------\u001b[0m",
            "\u001b[0;31mFileNotFoundError\u001b[0m                         Traceback (most recent call last)",
            "\u001b[0;32m<ipython-input-30-755508c9ab4b>\u001b[0m in \u001b[0;36m<module>\u001b[0;34m\u001b[0m\n\u001b[1;32m      2\u001b[0m \u001b[0;32mimport\u001b[0m \u001b[0mpickle\u001b[0m\u001b[0;34m\u001b[0m\u001b[0;34m\u001b[0m\u001b[0m\n\u001b[1;32m      3\u001b[0m \u001b[0mpkl_filename\u001b[0m \u001b[0;34m=\u001b[0m \u001b[0;34m\"pickle_model.pkl\"\u001b[0m\u001b[0;34m\u001b[0m\u001b[0;34m\u001b[0m\u001b[0m\n\u001b[0;32m----> 4\u001b[0;31m \u001b[0;32mwith\u001b[0m \u001b[0mopen\u001b[0m\u001b[0;34m(\u001b[0m\u001b[0mpkl_filename\u001b[0m\u001b[0;34m,\u001b[0m \u001b[0;34m'rb'\u001b[0m\u001b[0;34m)\u001b[0m \u001b[0;32mas\u001b[0m \u001b[0mfile\u001b[0m\u001b[0;34m:\u001b[0m\u001b[0;34m\u001b[0m\u001b[0;34m\u001b[0m\u001b[0m\n\u001b[0m\u001b[1;32m      5\u001b[0m     \u001b[0mmodel\u001b[0m \u001b[0;34m=\u001b[0m \u001b[0mpickle\u001b[0m\u001b[0;34m.\u001b[0m\u001b[0mload\u001b[0m\u001b[0;34m(\u001b[0m\u001b[0mfile\u001b[0m\u001b[0;34m)\u001b[0m\u001b[0;34m\u001b[0m\u001b[0;34m\u001b[0m\u001b[0m\n",
            "\u001b[0;31mFileNotFoundError\u001b[0m: [Errno 2] No such file or directory: 'pickle_model.pkl'"
          ]
        }
      ],
      "source": [
        "# Cargamos el modelo\n",
        "import pickle\n",
        "pkl_filename = \"pickle_model_dtr.pkl\"\n",
        "with open(pkl_filename, 'rb') as file:\n",
        "    model = pickle.load(file)"
      ]
    },
    {
      "cell_type": "markdown",
      "source": [
        "# Gradient boosting algorithm and AdaBoosting algorithm regression"
      ],
      "metadata": {
        "id": "Dq40Nfe96vUJ"
      }
    },
    {
      "cell_type": "code",
      "execution_count": null,
      "metadata": {
        "id": "v9kTX4eIr7eW"
      },
      "outputs": [],
      "source": [
        "#Gradient boosting algorithm and AdaBoosting algorithm regression\n",
        "from sklearn.ensemble import GradientBoostingRegressor\n",
        "from sklearn.metrics import mean_squared_error\n",
        "from sklearn.metrics import r2_score\n",
        "from sklearn.metrics import mean_absolute_error\n",
        "from sklearn.metrics import accuracy_score\n",
        "from sklearn.metrics import classification_report\n",
        "from sklearn.metrics import confusion_matrix\n",
        "\n",
        "# Create linear regression object\n",
        "gbr = GradientBoostingRegressor()\n",
        "\n",
        "# Train the model using the training sets\n",
        "gbr.fit(Xtrain, Ytrain)\n",
        "\n",
        "# Make predictions using the testing set\n",
        "y_pred = gbr.predict(Xtest)\n",
        "\n",
        "# The coefficients\n",
        "# The mean squared error\n",
        "print('Mean squared error: %.2f' % mean_squared_error(Ytest, y_pred))\n",
        "# The coefficient of determination: 1 is perfect prediction\n",
        "print('Coefficient of determination: %.2f' % r2_score(Ytest, y_pred))\n",
        "gbr_cd = r2_score(Ytest, y_pred)\n",
        "# The mean absolute error\n",
        "print('Mean absolute error: %.2f' % mean_absolute_error(Ytest, y_pred))\n",
        "\n",
        "#AdaBoosting algorithm regression\n",
        "\n"
      ]
    },
    {
      "cell_type": "code",
      "source": [
        "table = [array1, array2, array3]"
      ],
      "metadata": {
        "id": "XFzoFX5qWZAO"
      },
      "execution_count": null,
      "outputs": []
    },
    {
      "cell_type": "markdown",
      "source": [
        "# Resultados"
      ],
      "metadata": {
        "id": "oG93nF5BWjr1"
      }
    },
    {
      "cell_type": "code",
      "source": [
        "table = [score_rfr, score_lin_reg_2]\n",
        "df_score = pd.DataFrame(table, columns=['score_rfr', 'score_lin_reg_2','','','']).T\n",
        "print(df_score.head())"
      ],
      "metadata": {
        "colab": {
          "base_uri": "https://localhost:8080/",
          "height": 130
        },
        "id": "zNEOnAXdWjr2",
        "outputId": "f21409f4-6806-442e-f258-868305e9c26e"
      },
      "execution_count": null,
      "outputs": [
        {
          "output_type": "error",
          "ename": "SyntaxError",
          "evalue": "ignored",
          "traceback": [
            "\u001b[0;36m  File \u001b[0;32m\"<ipython-input-76-e01f0b841214>\"\u001b[0;36m, line \u001b[0;32m2\u001b[0m\n\u001b[0;31m    df_score = pd.DataFrame(table,columns={0: 'sample_1', 1: 'sample_2').T\u001b[0m\n\u001b[0m                                                                       ^\u001b[0m\n\u001b[0;31mSyntaxError\u001b[0m\u001b[0;31m:\u001b[0m closing parenthesis ')' does not match opening parenthesis '{'\n"
          ]
        }
      ]
    }
  ],
  "metadata": {
    "accelerator": "GPU",
    "colab": {
      "provenance": [],
      "collapsed_sections": [
        "xsJdV1Xu67Eu",
        "Fk6JvkZVr7do",
        "t3Lz_SRy5_XX",
        "xXjwk5ic6Jtn",
        "2nERYode6Rd0",
        "shIJCZOU6XPS",
        "cFUuROYa6eVn",
        "5aWoLm_s6kgk",
        "Dq40Nfe96vUJ"
      ]
    },
    "gpuClass": "standard",
    "kernelspec": {
      "display_name": "Python 3.8.12 ('xxx')",
      "language": "python",
      "name": "python3"
    },
    "language_info": {
      "codemirror_mode": {
        "name": "ipython",
        "version": 3
      },
      "file_extension": ".py",
      "mimetype": "text/x-python",
      "name": "python",
      "nbconvert_exporter": "python",
      "pygments_lexer": "ipython3",
      "version": "3.8.12"
    },
    "vscode": {
      "interpreter": {
        "hash": "fe1dd37900169d03b9edd7a3b6cd1f63b9d0742ea57c77cfeb3591f74e5e918c"
      }
    }
  },
  "nbformat": 4,
  "nbformat_minor": 0
}